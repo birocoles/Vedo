{
 "cells": [
  {
   "cell_type": "code",
   "execution_count": 1,
   "id": "f31f1eda-4f5f-4b68-87e6-6b36e6bbcc07",
   "metadata": {},
   "outputs": [],
   "source": [
    "import vedo\n",
    "import numpy as np"
   ]
  },
  {
   "cell_type": "code",
   "execution_count": 2,
   "id": "c083d555-1690-4232-b396-9ae5025ed8a3",
   "metadata": {},
   "outputs": [],
   "source": [
    "vedo.settings.default_backend= 'vtk'"
   ]
  },
  {
   "cell_type": "code",
   "execution_count": 3,
   "id": "10aa7761-0644-4a2f-b0e9-9d27a699c7d3",
   "metadata": {},
   "outputs": [
    {
     "name": "stdout",
     "output_type": "stream",
     "text": [
      "vedo 2024.5.1\n"
     ]
    }
   ],
   "source": [
    "print(\"vedo\", vedo.__version__)"
   ]
  },
  {
   "cell_type": "code",
   "execution_count": 5,
   "id": "e5264ff7-244f-4f8b-8a8b-4f5c7424a040",
   "metadata": {},
   "outputs": [
    {
     "ename": "AttributeError",
     "evalue": "module 'vtkmodules.vtkFiltersCore' has no attribute 'vtkSurfaceNets3D'",
     "output_type": "error",
     "traceback": [
      "\u001b[0;31m---------------------------------------------------------------------------\u001b[0m",
      "\u001b[0;31mAttributeError\u001b[0m                            Traceback (most recent call last)",
      "Cell \u001b[0;32mIn[5], line 23\u001b[0m\n\u001b[1;32m     20\u001b[0m blobs \u001b[38;5;241m=\u001b[39m vedo\u001b[38;5;241m.\u001b[39mVolume(vedo\u001b[38;5;241m.\u001b[39mdataurl \u001b[38;5;241m+\u001b[39m \u001b[38;5;124m\"\u001b[39m\u001b[38;5;124mblobs.vti\u001b[39m\u001b[38;5;124m\"\u001b[39m)\n\u001b[1;32m     22\u001b[0m isovalues \u001b[38;5;241m=\u001b[39m \u001b[38;5;28mlist\u001b[39m(\u001b[38;5;28mrange\u001b[39m(\u001b[38;5;241m12\u001b[39m))\n\u001b[0;32m---> 23\u001b[0m iso_discrete \u001b[38;5;241m=\u001b[39m \u001b[43mblobs\u001b[49m\u001b[38;5;241;43m.\u001b[39;49m\u001b[43misosurface_discrete\u001b[49m\u001b[43m(\u001b[49m\u001b[43misovalues\u001b[49m\u001b[43m,\u001b[49m\u001b[43m \u001b[49m\u001b[43mnsmooth\u001b[49m\u001b[38;5;241;43m=\u001b[39;49m\u001b[38;5;241;43m10\u001b[39;49m\u001b[43m)\u001b[49m\n\u001b[1;32m     24\u001b[0m iso_discrete\u001b[38;5;241m.\u001b[39mcmap(lut)\n\u001b[1;32m     26\u001b[0m show(iso_discrete, \u001b[38;5;18m__doc__\u001b[39m, axes\u001b[38;5;241m=\u001b[39m\u001b[38;5;241m1\u001b[39m)\n",
      "File \u001b[0;32m~/anaconda3/lib/python3.11/site-packages/vedo/core.py:1870\u001b[0m, in \u001b[0;36mVolumeAlgorithms.isosurface_discrete\u001b[0;34m(self, value, nsmooth)\u001b[0m\n\u001b[1;32m   1867\u001b[0m \u001b[38;5;28;01mif\u001b[39;00m \u001b[38;5;129;01mnot\u001b[39;00m utils\u001b[38;5;241m.\u001b[39mis_sequence(value):\n\u001b[1;32m   1868\u001b[0m     value \u001b[38;5;241m=\u001b[39m [value]\n\u001b[0;32m-> 1870\u001b[0m snets \u001b[38;5;241m=\u001b[39m \u001b[43mvtki\u001b[49m\u001b[38;5;241;43m.\u001b[39;49m\u001b[43mnew\u001b[49m\u001b[43m(\u001b[49m\u001b[38;5;124;43m\"\u001b[39;49m\u001b[38;5;124;43mSurfaceNets3D\u001b[39;49m\u001b[38;5;124;43m\"\u001b[39;49m\u001b[43m)\u001b[49m\n\u001b[1;32m   1871\u001b[0m snets\u001b[38;5;241m.\u001b[39mSetInputData(\u001b[38;5;28mself\u001b[39m\u001b[38;5;241m.\u001b[39mdataset)\n\u001b[1;32m   1873\u001b[0m \u001b[38;5;28;01mif\u001b[39;00m nsmooth:\n",
      "File \u001b[0;32m~/anaconda3/lib/python3.11/site-packages/vedo/vtkclasses.py:816\u001b[0m, in \u001b[0;36mnew\u001b[0;34m(cls_name, module_name)\u001b[0m\n\u001b[1;32m    806\u001b[0m \u001b[38;5;250m\u001b[39m\u001b[38;5;124;03m\"\"\"\u001b[39;00m\n\u001b[1;32m    807\u001b[0m \u001b[38;5;124;03mCreate a new vtk object instance from its name.\u001b[39;00m\n\u001b[1;32m    808\u001b[0m \u001b[38;5;124;03m\u001b[39;00m\n\u001b[0;32m   (...)\u001b[0m\n\u001b[1;32m    813\u001b[0m \u001b[38;5;124;03m```\u001b[39;00m\n\u001b[1;32m    814\u001b[0m \u001b[38;5;124;03m\"\"\"\u001b[39;00m\n\u001b[1;32m    815\u001b[0m \u001b[38;5;28;01mtry\u001b[39;00m:\n\u001b[0;32m--> 816\u001b[0m     instance \u001b[38;5;241m=\u001b[39m \u001b[43mget_class\u001b[49m\u001b[43m(\u001b[49m\u001b[43mcls_name\u001b[49m\u001b[43m,\u001b[49m\u001b[43m \u001b[49m\u001b[43mmodule_name\u001b[49m\u001b[43m)\u001b[49m()\n\u001b[1;32m    817\u001b[0m \u001b[38;5;28;01mexcept\u001b[39;00m \u001b[38;5;167;01mNotImplementedError\u001b[39;00m \u001b[38;5;28;01mas\u001b[39;00m e:\n\u001b[1;32m    818\u001b[0m     \u001b[38;5;28mprint\u001b[39m(e, cls_name)\n",
      "File \u001b[0;32m~/anaconda3/lib/python3.11/site-packages/vedo/vtkclasses.py:800\u001b[0m, in \u001b[0;36mget_class\u001b[0;34m(name, module_name)\u001b[0m\n\u001b[1;32m    798\u001b[0m     module_cache[module_name] \u001b[38;5;241m=\u001b[39m module\n\u001b[1;32m    799\u001b[0m \u001b[38;5;28;01mif\u001b[39;00m name:\n\u001b[0;32m--> 800\u001b[0m     \u001b[38;5;28;01mreturn\u001b[39;00m \u001b[38;5;28;43mgetattr\u001b[39;49m\u001b[43m(\u001b[49m\u001b[43mmodule_cache\u001b[49m\u001b[43m[\u001b[49m\u001b[43mmodule_name\u001b[49m\u001b[43m]\u001b[49m\u001b[43m,\u001b[49m\u001b[43m \u001b[49m\u001b[43mname\u001b[49m\u001b[43m)\u001b[49m\n\u001b[1;32m    801\u001b[0m \u001b[38;5;28;01melse\u001b[39;00m:\n\u001b[1;32m    802\u001b[0m     \u001b[38;5;28;01mreturn\u001b[39;00m module_cache[module_name]\n",
      "\u001b[0;31mAttributeError\u001b[0m: module 'vtkmodules.vtkFiltersCore' has no attribute 'vtkSurfaceNets3D'"
     ]
    }
   ],
   "source": [
    "lut = vedo.build_lut(\n",
    "    [\n",
    "        [0, \"lightyellow\"],\n",
    "        [1, \"red\"],\n",
    "        [2, \"blue\"],\n",
    "        [3, \"yellow\"],\n",
    "        [4, \"orange\"],\n",
    "        [5, \"cyan\"],\n",
    "        [6, \"magenta\"],\n",
    "        [7, \"white\"],\n",
    "        [8, \"pink\"],\n",
    "        [9, \"brown\"],\n",
    "        [10, \"lightblue\"],\n",
    "        [11, \"lightgreen\"],\n",
    "    ],\n",
    "    interpolate=False\n",
    ")\n",
    "\n",
    "# this dataset is a 3D volume of 64x64x64 voxels containing 12 \"blobs\"\n",
    "blobs = vedo.Volume(vedo.dataurl + \"blobs.vti\")\n",
    "\n",
    "isovalues = list(range(12))\n",
    "iso_discrete = blobs.isosurface_discrete(isovalues, nsmooth=10)\n",
    "iso_discrete.cmap(lut)\n",
    "\n",
    "show(iso_discrete, __doc__, axes=1)"
   ]
  },
  {
   "cell_type": "code",
   "execution_count": null,
   "id": "155bc6f6-a119-4a45-bc61-9855c00da88c",
   "metadata": {},
   "outputs": [],
   "source": []
  }
 ],
 "metadata": {
  "kernelspec": {
   "display_name": "Python 3 (ipykernel)",
   "language": "python",
   "name": "python3"
  },
  "language_info": {
   "codemirror_mode": {
    "name": "ipython",
    "version": 3
   },
   "file_extension": ".py",
   "mimetype": "text/x-python",
   "name": "python",
   "nbconvert_exporter": "python",
   "pygments_lexer": "ipython3",
   "version": "3.11.8"
  }
 },
 "nbformat": 4,
 "nbformat_minor": 5
}
