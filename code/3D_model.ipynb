{
 "cells": [
  {
   "cell_type": "markdown",
   "metadata": {},
   "source": [
    "# 3D model"
   ]
  },
  {
   "cell_type": "markdown",
   "metadata": {},
   "source": [
    "This code illustrates how to create a model formed by rectangular prisms."
   ]
  },
  {
   "cell_type": "markdown",
   "metadata": {},
   "source": [
    "### Things we have to import"
   ]
  },
  {
   "cell_type": "code",
   "execution_count": 1,
   "metadata": {},
   "outputs": [],
   "source": [
    "import numpy as np\n",
    "import matplotlib.pyplot as plt"
   ]
  },
  {
   "cell_type": "code",
   "execution_count": 2,
   "metadata": {
    "tags": []
   },
   "outputs": [],
   "source": [
    "import vedo"
   ]
  },
  {
   "cell_type": "code",
   "execution_count": 3,
   "metadata": {
    "tags": []
   },
   "outputs": [],
   "source": [
    "# set the backend for vedo\n",
    "vedo.settings.default_backend= 'vtk'\n",
    "#vedo.settings.default_backend= '2d'"
   ]
  },
  {
   "cell_type": "code",
   "execution_count": 4,
   "metadata": {
    "tags": []
   },
   "outputs": [],
   "source": [
    "from shapely.geometry import Point\n",
    "from shapely.geometry.polygon import Polygon"
   ]
  },
  {
   "cell_type": "code",
   "execution_count": 5,
   "metadata": {
    "tags": []
   },
   "outputs": [],
   "source": [
    "# Python package noise (https://github.com/caseman/noise) for generating Perlin noise.\n",
    "# Such noise is usefull to simulate topography.\n",
    "import noise"
   ]
  },
  {
   "cell_type": "code",
   "execution_count": 6,
   "metadata": {
    "tags": []
   },
   "outputs": [],
   "source": [
    "from gravmag import data_structures"
   ]
  },
  {
   "cell_type": "markdown",
   "metadata": {},
   "source": [
    "### Set the area and number of points along the horizontal directions"
   ]
  },
  {
   "cell_type": "code",
   "execution_count": 7,
   "metadata": {},
   "outputs": [],
   "source": [
    "# number of points along the x and y directions\n",
    "shape = (40, 50)\n",
    "\n",
    "# minimum x, maximum x, minimum y and maximum y\n",
    "area = [-5100, 4900, -3800, 6200]"
   ]
  },
  {
   "cell_type": "code",
   "execution_count": 8,
   "metadata": {},
   "outputs": [
    {
     "name": "stdout",
     "output_type": "stream",
     "text": [
      "dx = 256.410 m | dx = 204.082 m\n"
     ]
    }
   ],
   "source": [
    "dx, dy = data_structures.grid_xy_spacing(area=area, shape=shape)\n",
    "print('dx = {:.3f} m | dx = {:.3f} m'.format(dx, dy))"
   ]
  },
  {
   "cell_type": "code",
   "execution_count": 9,
   "metadata": {
    "tags": []
   },
   "outputs": [],
   "source": [
    "grid = data_structures.grid_xy(area=area, shape=shape, z0=0)"
   ]
  },
  {
   "cell_type": "markdown",
   "metadata": {},
   "source": [
    "### Define the thickness of all rectangular cells covering the simulated area"
   ]
  },
  {
   "cell_type": "code",
   "execution_count": 10,
   "metadata": {
    "tags": []
   },
   "outputs": [],
   "source": [
    "# Generate a synthetic random surfaces with the Python package [`noise`](https://pypi.org/project/noise/),\n",
    "# by following the example presented at [Jack McKew's Blog](https://jackmckew.dev/3d-terrain-in-python.html)\n",
    "\n",
    "# parameters controlling the surface\n",
    "amplitude = 500.\n",
    "vertical_center = 250.\n",
    "\n",
    "# generate the surface\n",
    "thickness = np.zeros(shape)\n",
    "for i in range(shape[0]):\n",
    "    for j in range(shape[1]):\n",
    "        thickness[i][j] = noise.pnoise2(\n",
    "            i/40, \n",
    "            j/30, \n",
    "            octaves=29, \n",
    "            persistence=0.4,\n",
    "            lacunarity=3, \n",
    "            repeatx=10, \n",
    "            repeaty=4, \n",
    "            base=0\n",
    "        )\n",
    "thickness = (\n",
    "    amplitude*(\n",
    "        (thickness - np.min(thickness))/(np.max(thickness) - np.min(thickness))\n",
    "    )\n",
    ")\n",
    "\n",
    "# horizontal boundaries of the prisms\n",
    "X, Y = data_structures.grid_xy_to_full_matrices_view(\n",
    "    x = np.linspace(\n",
    "        area[0] + 0.5*dx, \n",
    "        area[1] - 0.5*dx, \n",
    "        shape[0]\n",
    "    ),\n",
    "    y = np.linspace(\n",
    "        area[2] + 0.5*dy, \n",
    "        area[3] - 0.5*dy, \n",
    "        shape[1]\n",
    "    ),\n",
    "    shape = shape\n",
    ")"
   ]
  },
  {
   "cell_type": "code",
   "execution_count": 11,
   "metadata": {
    "tags": []
   },
   "outputs": [
    {
     "data": {
      "text/plain": [
       "(40, 50)"
      ]
     },
     "execution_count": 11,
     "metadata": {},
     "output_type": "execute_result"
    }
   ],
   "source": [
    "thickness.shape"
   ]
  },
  {
   "cell_type": "markdown",
   "metadata": {},
   "source": [
    "### Plot the model"
   ]
  },
  {
   "cell_type": "code",
   "execution_count": 12,
   "metadata": {},
   "outputs": [],
   "source": [
    "grid_full_flatten = data_structures.grid_xy_to_full_flatten(grid=grid, ordering='xy')"
   ]
  },
  {
   "cell_type": "code",
   "execution_count": 13,
   "metadata": {
    "tags": []
   },
   "outputs": [],
   "source": [
    "points = vedo.Points(\n",
    "    np.vstack([grid_full_flatten['x'], grid_full_flatten['y'], thickness.T.ravel()]).T,\n",
    "    r=3,\n",
    "    c='k',\n",
    "    alpha=1\n",
    ").force_opaque()"
   ]
  },
  {
   "cell_type": "code",
   "execution_count": 14,
   "metadata": {
    "tags": []
   },
   "outputs": [
    {
     "data": {
      "text/html": [
       "<table>\n",
       "<tr>\n",
       "<td>\n",
       "<img src='data:image/png;base64,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'></img>\n",
       "</td>\n",
       "<td style='text-align: center; vertical-align: center;'><br/>\n",
       "<b> Mesh: &nbsp&nbsp</b><b><a href=\"https://vedo.embl.es/docs/vedo/mesh.html#Mesh\" target=\"_blank\">vedo.mesh.Mesh</a></b>\n",
       "<table>\n",
       "<tr><td><b> bounds </b> <br/> (x/y/z) </td><td>-5100 ... 4900<br/>-3800 ... 6200<br/>0 ... 500.0</td></tr>\n",
       "<tr><td><b> center of mass </b></td><td>(-100, 1.20e+3, 291)</td></tr>\n",
       "<tr><td><b> average size </b></td><td>3914.660</td></tr>\n",
       "<tr><td><b> nr. points&nbsp/&nbspfaces </b></td><td>2000&nbsp/&nbsp3822</td></tr>\n",
       "<tr><td><b> point data array </b></td><td>Scalars</td></tr>\n",
       "\n",
       "</table>\n",
       "</table>"
      ],
      "text/plain": [
       "<vedo.mesh.Mesh at 0x7ba4a8392950>"
      ]
     },
     "execution_count": 14,
     "metadata": {},
     "output_type": "execute_result"
    }
   ],
   "source": [
    "# build a surface from points\n",
    "surface = points.generate_delaunay2d()\n",
    "\n",
    "# colorize the surface using the vertical coordinate z\n",
    "surface.cmap(input_cmap='terrain', input_array=surface.vertices[:,2], vmin=np.min(thickness), vmax=np.max(thickness))\n",
    "\n",
    "# add a colorbar to the surface\n",
    "surface.add_scalarbar(\n",
    "    title='z (m)', \n",
    "    pos=(0.05,0.15),\n",
    "    title_yoffset=15,\n",
    "    font_size=14,\n",
    "    size=(60, 1000000),\n",
    "    nlabels=5,\n",
    "    horizontal=True,\n",
    "    label_format=':6.0f'\n",
    ")"
   ]
  },
  {
   "cell_type": "code",
   "execution_count": 15,
   "metadata": {
    "tags": []
   },
   "outputs": [],
   "source": [
    "prisms = []\n",
    "prisms.append(vedo.Box(\n",
    "    pos=(-2000, 0, 0, 2000, -100, 500), \n",
    "    # length=1.0,\n",
    "    # width=2.0,\n",
    "    # height=3.0,\n",
    "    #size=(),\n",
    "    c='blue4',\n",
    "    alpha=1\n",
    "))\n",
    "\n",
    "prisms.append(vedo.Box(\n",
    "    pos=(-4000, 3000, 3600, 4000, 100, 800), \n",
    "    # length=1.0,\n",
    "    # width=2.0,\n",
    "    # height=3.0,\n",
    "    #size=(),\n",
    "    c='red4',\n",
    "    alpha=1\n",
    "))\n",
    "\n",
    "prisms = vedo.merge(prisms).force_opaque()\n",
    "#prisms = vedo.Assembly(prisms)\n",
    "#prisms = vedo.Volume(prisms)"
   ]
  },
  {
   "cell_type": "code",
   "execution_count": 16,
   "metadata": {
    "tags": []
   },
   "outputs": [
    {
     "data": {
      "text/html": [
       "<table>\n",
       "<tr>\n",
       "<td>\n",
       "<img src='data:image/png;base64,iVBORw0KGgoAAAANSUhEUgAAAMgAAADICAIAAAAiOjnJAAACY0lEQVR4nO3dsU0DMQCGUYwyACUN0m2SjJKWLZIZ6YlgCyozQgDxydLpvQn+4tPZhaUbc84H+G+PqwewT8IiISwSwiIhLBLCIiEsEsIiISwSwiIhLBLCIiEsEsIiISwSwiIhLBLCIiEsEsIiISwSwiIhLBLCIiEsEsIiISwSwiIhLBLCIiEsEsIiISwSwiIhLBLCIiEsEuP9dFq9gR0ab6sXsEuOQhLCIiEsEsIiISwSwiIhLBLCIiEsEsIiMV5XLwD4qXHyuoHA8LNxCi7vJIRFQlgkhEVCWCSERUJYJIRFQlgkhEVCWCSERUJYJIRFQlgkhEVCWCSERUJYJIRFQlgkhEVCWCSERUJYJIRFQlgkhEVCWCSERUJYJIRFQlgkhEVCWCSERUJYJIRFQlgkhEVCWCSERUJYJIRFQlgkhEXisHrAfdfrx+XyuXrFr91uL9u2rV6xjC8WCWGREBYJYZEQFglhkRAWCWGREBYJYZEQFglhkRAWCWGREBYJYZEQFglhkRAWCWGREBYJYZEQFglhkRAWCWGREBYJYZEQFglhkRAWCWGREBYJYZEQFglhkRAWCWGREBYJYZEQFglhkRAWCWGREBYJYZEQFglhkRAWCWGREBYJYZEQFglhkRAWCWGREBYJYZEQFonD6gH3HY9P5/PX6hV/8Lx6wEpjzrl6AzvkKCQhLBLCIiEsEsIiISwSwiIhLBLCIiEsEsIiISwSwiIhLBLCIiEsEsIiISwSwiIhLBLCIiEsEsIiISwSwiIhLBLCIiEsEsIiISwSwiIhLBLCIiEsEsIiISwSwiIhLBLfCH8WPBAgmu4AAAAASUVORK5CYII='></img>\n",
       "</td>\n",
       "<td style='text-align: center; vertical-align: center;'><br/>\n",
       "<b> Mesh: &nbsp&nbsp</b><b><a href=\"https://vedo.embl.es/docs/vedo/mesh.html#Mesh\" target=\"_blank\">vedo.mesh.Mesh</a></b>\n",
       "<table>\n",
       "<tr><td><b> bounds </b> <br/> (x/y/z) </td><td>-4000 ... 3000<br/>0 ... 4000<br/>-100.0 ... 800.0</td></tr>\n",
       "<tr><td><b> center of mass </b></td><td>(-750, 2.40e+3, 325)</td></tr>\n",
       "<tr><td><b> average size </b></td><td>2837.027</td></tr>\n",
       "<tr><td><b> nr. points&nbsp/&nbspfaces </b></td><td>48&nbsp/&nbsp12</td></tr>\n",
       "\n",
       "<tr><td><b> cell data array </b></td><td>Scalars</td></tr>\n",
       "</table>\n",
       "</table>"
      ],
      "text/plain": [
       "<vedo.mesh.Mesh at 0x7ba3e7d9a1d0>"
      ]
     },
     "execution_count": 16,
     "metadata": {},
     "output_type": "execute_result"
    }
   ],
   "source": [
    "# create colors for the prisms\n",
    "# the color values must be defined for the faces of each prisms\n",
    "# we need to repeat the color values for each prisms 6 times because they are\n",
    "# associated to the prisms faces\n",
    "prisms_colors = np.repeat(a=[-10, 10], repeats=6)\n",
    "\n",
    "# colorize the prisms\n",
    "prisms.cmap(input_cmap='seismic', input_array=prisms_colors, on='cells', vmin=-15, vmax=15)\n",
    "\n",
    "# add a colorbar to the prisms\n",
    "prisms.add_scalarbar(\n",
    "    title='density (kg/m³)', \n",
    "    pos=(0.05,0.05),\n",
    "    title_yoffset=15,\n",
    "    font_size=14,\n",
    "    #size=(60, 1000000000),\n",
    "    nlabels=5,\n",
    "    horizontal=True,\n",
    "    label_format=':6.0f'\n",
    ")"
   ]
  },
  {
   "cell_type": "code",
   "execution_count": 19,
   "metadata": {
    "tags": []
   },
   "outputs": [],
   "source": [
    "custom_axes = vedo.Axes(\n",
    "    obj=None,\n",
    "    xtitle='x',\n",
    "    ytitle='y',\n",
    "    ztitle='z',\n",
    "    xrange=(area[0], area[1]),\n",
    "    yrange=(area[2], area[3]),\n",
    "    zrange=(-200, 1000),\n",
    "    c=None,\n",
    "    number_of_divisions=None,\n",
    "    digits=None,\n",
    "    limit_ratio=0.04,\n",
    "    title_depth=0,\n",
    "    title_font='',\n",
    "    text_scale=1.0,\n",
    "    x_values_and_labels=None,\n",
    "    y_values_and_labels=None,\n",
    "    z_values_and_labels=None,\n",
    "    htitle='',\n",
    "    htitle_size=0.03,\n",
    "    htitle_font=None,\n",
    "    htitle_italic=False,\n",
    "    htitle_color=None,\n",
    "    htitle_backface_color=None,\n",
    "    htitle_justify='bottom-left',\n",
    "    htitle_rotation=90,\n",
    "    htitle_offset=(0, 0.01, 0),\n",
    "    xtitle_position=0.95,\n",
    "    ytitle_position=0.95,\n",
    "    ztitle_position=0.95,\n",
    "    xtitle_offset=0.025,\n",
    "    ytitle_offset=-0.0875,\n",
    "    ztitle_offset=0.02,\n",
    "    xtitle_justify=None,\n",
    "    ytitle_justify=None,\n",
    "    ztitle_justify=None,\n",
    "    xtitle_rotation=(180,0,180),\n",
    "    ytitle_rotation=(90, 0, 180),\n",
    "    ztitle_rotation=(0, 0, 180),\n",
    "    xtitle_box=False,\n",
    "    ytitle_box=False,\n",
    "    xtitle_size=0.025,\n",
    "    ytitle_size=0.025,\n",
    "    ztitle_size=0.025,\n",
    "    xtitle_color='k',\n",
    "    ytitle_color='k',\n",
    "    ztitle_color='k',\n",
    "    xtitle_backface_color='k',\n",
    "    ytitle_backface_color='k',\n",
    "    ztitle_backface_color='k',\n",
    "    xtitle_italic=0,\n",
    "    ytitle_italic=0,\n",
    "    ztitle_italic=0,\n",
    "    grid_linewidth=1,\n",
    "    xygrid=False,\n",
    "    yzgrid=False,\n",
    "    zxgrid=True,\n",
    "    xygrid2=True,\n",
    "    yzgrid2=True,\n",
    "    zxgrid2=False,\n",
    "    xygrid_transparent=True,\n",
    "    yzgrid_transparent=False,\n",
    "    zxgrid_transparent=True,\n",
    "    xygrid2_transparent=False,\n",
    "    yzgrid2_transparent=True,\n",
    "    zxgrid2_transparent=False,\n",
    "    xyplane_color=None,\n",
    "    yzplane_color=None,\n",
    "    zxplane_color=None,\n",
    "    xygrid_color=None,\n",
    "    yzgrid_color=None,\n",
    "    zxgrid_color=None,\n",
    "    xyalpha=0.075,\n",
    "    yzalpha=0.075,\n",
    "    zxalpha=0.075,\n",
    "    xyframe_line=None,\n",
    "    yzframe_line=None,\n",
    "    zxframe_line=None,\n",
    "    xyframe_color=None,\n",
    "    yzframe_color=None,\n",
    "    zxframe_color=None,\n",
    "    axes_linewidth=1,\n",
    "    xline_color=None,\n",
    "    yline_color=None,\n",
    "    zline_color=None,\n",
    "    xhighlight_zero=False,\n",
    "    yhighlight_zero=False,\n",
    "    zhighlight_zero=False,\n",
    "    xhighlight_zero_color='red4',\n",
    "    yhighlight_zero_color='green4',\n",
    "    zhighlight_zero_color='blue4',\n",
    "    show_ticks=True,\n",
    "    xtick_length=0.015,\n",
    "    ytick_length=0.015,\n",
    "    ztick_length=0.015,\n",
    "    xtick_thickness=0.0025,\n",
    "    ytick_thickness=0.0025,\n",
    "    ztick_thickness=0.0025,\n",
    "    xminor_ticks=1,\n",
    "    yminor_ticks=1,\n",
    "    zminor_ticks=None,\n",
    "    tip_size=None,\n",
    "    label_font='',\n",
    "    xlabel_color='k',\n",
    "    ylabel_color='k',\n",
    "    zlabel_color='k',\n",
    "    xlabel_backface_color='k',\n",
    "    ylabel_backface_color='k',\n",
    "    zlabel_backface_color='k',\n",
    "    xlabel_size=0.016,\n",
    "    ylabel_size=0.016,\n",
    "    zlabel_size=0.016,\n",
    "    xlabel_offset=0.8,\n",
    "    ylabel_offset=-1,\n",
    "    zlabel_offset=0.8,\n",
    "    xlabel_justify=None,\n",
    "    ylabel_justify=None,\n",
    "    zlabel_justify=None,\n",
    "    xlabel_rotation=(180,0,180),\n",
    "    ylabel_rotation=(90, 0, 180),\n",
    "    zlabel_rotation=0,\n",
    "    xaxis_rotation=0,\n",
    "    yaxis_rotation=0,\n",
    "    zaxis_rotation=0,\n",
    "    xyshift=0,\n",
    "    yzshift=0,\n",
    "    zxshift=0,\n",
    "    xshift_along_y=0,\n",
    "    xshift_along_z=0,\n",
    "    yshift_along_x=1,\n",
    "    yshift_along_z=0,\n",
    "    zshift_along_x=0,\n",
    "    zshift_along_y=0,\n",
    "    x_use_bounds=False,\n",
    "    y_use_bounds=False,\n",
    "    z_use_bounds=False,\n",
    "    x_inverted=False,\n",
    "    y_inverted=False,\n",
    "    z_inverted=False,\n",
    "    use_global=False,\n",
    "    tol=0.001\n",
    ")"
   ]
  },
  {
   "cell_type": "code",
   "execution_count": 21,
   "metadata": {
    "tags": []
   },
   "outputs": [
    {
     "data": {
      "text/plain": [
       "<vedo.plotter.Plotter at 0x7ba3e7d9c790>"
      ]
     },
     "execution_count": 21,
     "metadata": {},
     "output_type": "execute_result"
    }
   ],
   "source": [
    "pl = vedo.Plotter()\n",
    "\n",
    "pl += points\n",
    "\n",
    "pl += surface\n",
    "\n",
    "pl += prisms\n",
    "\n",
    "pl += custom_axes\n",
    "\n",
    "pl.show(\n",
    "    axes=0, zoom=1, viewup=(0,0,-1), elevation=0, roll=0, azimuth=0\n",
    ").close()"
   ]
  },
  {
   "cell_type": "code",
   "execution_count": null,
   "metadata": {},
   "outputs": [],
   "source": []
  }
 ],
 "metadata": {
  "kernelspec": {
   "display_name": "Python 3 (ipykernel)",
   "language": "python",
   "name": "python3"
  },
  "language_info": {
   "codemirror_mode": {
    "name": "ipython",
    "version": 3
   },
   "file_extension": ".py",
   "mimetype": "text/x-python",
   "name": "python",
   "nbconvert_exporter": "python",
   "pygments_lexer": "ipython3",
   "version": "3.11.8"
  }
 },
 "nbformat": 4,
 "nbformat_minor": 4
}
