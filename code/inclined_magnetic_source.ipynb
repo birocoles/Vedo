{
 "cells": [
  {
   "cell_type": "markdown",
   "id": "27de9e77-cfff-4084-a560-270c7506da55",
   "metadata": {},
   "source": [
    "# Inclined magnetic source"
   ]
  },
  {
   "cell_type": "markdown",
   "id": "4da055c2-dc52-40f3-a309-7f35789d53df",
   "metadata": {},
   "source": [
    "### Import the required packages"
   ]
  },
  {
   "cell_type": "code",
   "execution_count": 1,
   "id": "4e5ffad5-3cc4-4193-81e3-729c0d61de4e",
   "metadata": {
    "tags": []
   },
   "outputs": [],
   "source": [
    "import numpy as np"
   ]
  },
  {
   "cell_type": "code",
   "execution_count": 2,
   "id": "98666188-b533-43a7-99ad-02ee095c22d0",
   "metadata": {
    "tags": []
   },
   "outputs": [],
   "source": [
    "import vedo"
   ]
  },
  {
   "cell_type": "code",
   "execution_count": 3,
   "id": "15a6bfb1-120b-479f-bd14-5f0a062000fa",
   "metadata": {
    "tags": []
   },
   "outputs": [],
   "source": [
    "# set the backend for vedo\n",
    "vedo.settings.default_backend= 'vtk'\n",
    "#vedo.settings.default_backend= '2d'"
   ]
  },
  {
   "cell_type": "code",
   "execution_count": 4,
   "id": "3fb3c002-6540-428a-90ec-d3a3b19de848",
   "metadata": {
    "tags": []
   },
   "outputs": [],
   "source": [
    "from gravmag import utils, data_structures, aux_vedo\n",
    "from gravmag.models import rectangular_prism as rp"
   ]
  },
  {
   "cell_type": "code",
   "execution_count": 5,
   "id": "9c726168-8d00-4925-8894-4837d5c90474",
   "metadata": {
    "tags": []
   },
   "outputs": [],
   "source": [
    "import matplotlib.pyplot as plt"
   ]
  },
  {
   "cell_type": "code",
   "execution_count": 6,
   "id": "24c28b77-d565-4021-967a-85daedf4198f",
   "metadata": {
    "tags": []
   },
   "outputs": [],
   "source": [
    "from mpl_toolkits.axes_grid1.axes_divider import make_axes_locatable"
   ]
  },
  {
   "cell_type": "code",
   "execution_count": 7,
   "id": "705b029b-4e3c-4c6e-abbd-0e344d9a8286",
   "metadata": {
    "tags": []
   },
   "outputs": [],
   "source": [
    "import pickle"
   ]
  },
  {
   "cell_type": "markdown",
   "id": "353f2d47-5183-436f-8de0-e443fbacbf18",
   "metadata": {},
   "source": [
    "### Define the study area and create the inclined magnetic source"
   ]
  },
  {
   "cell_type": "code",
   "execution_count": 8,
   "id": "b0a43395-e453-4409-a4e9-f9c245286ff1",
   "metadata": {
    "tags": []
   },
   "outputs": [],
   "source": [
    "# define the study area\n",
    "# xmin, xmax, ymin, ymax, zmin, zmax\n",
    "area = [0, 18000, 0, 21000, -500, 2000]"
   ]
  },
  {
   "cell_type": "code",
   "execution_count": 9,
   "id": "3de24181-f920-4405-8115-09bf133319e4",
   "metadata": {
    "tags": []
   },
   "outputs": [],
   "source": [
    "# define the center coordinates\n",
    "area_center = (\n",
    "    0.5*(area[0]+area[1]),\n",
    "    0.5*(area[2]+area[3]),\n",
    "    1000\n",
    ")"
   ]
  },
  {
   "cell_type": "code",
   "execution_count": 10,
   "id": "122ec4d1-8202-48e0-866f-bd5e9e0eea1c",
   "metadata": {
    "tags": []
   },
   "outputs": [],
   "source": [
    "# custom axes defining the study area\n",
    "area_axes = aux_vedo.custom_axes(area=area)"
   ]
  },
  {
   "cell_type": "raw",
   "id": "aee302da-b8b1-414f-9778-683d0e405f35",
   "metadata": {
    "tags": []
   },
   "source": [
    "pl = vedo.Plotter()\n",
    "\n",
    "pl += area_axes\n",
    "\n",
    "pl.show(\n",
    "    axes=0, zoom=1, \n",
    "    viewup=(0,0,-1)\n",
    ")"
   ]
  },
  {
   "cell_type": "raw",
   "id": "1852871b-8065-4242-88cd-eedbd98f046c",
   "metadata": {
    "tags": []
   },
   "source": [
    "# define a set of planes to create de splines\n",
    "# for convenience, the planes will be orthogonal to the y-axis\n",
    "ref_planes_number = 10\n",
    "ref_planes_ymin = 6000\n",
    "ref_planes_ymax = 14000\n",
    "ref_planes_y = np.linspace(\n",
    "    ref_planes_ymin, ref_planes_ymax, ref_planes_number\n",
    ")"
   ]
  },
  {
   "cell_type": "raw",
   "id": "7e30f682-b046-429a-8ada-1a84994c1e09",
   "metadata": {
    "tags": []
   },
   "source": [
    "ref_planes_y"
   ]
  },
  {
   "cell_type": "raw",
   "id": "051aee94-aae0-4105-a478-cbde05abea2d",
   "metadata": {
    "tags": []
   },
   "source": [
    "ref_planes_dy = (\n",
    "    (ref_planes_ymax - ref_planes_ymin)/(ref_planes_number - 1)\n",
    ")"
   ]
  },
  {
   "cell_type": "raw",
   "id": "23433843-71af-4a58-ac9c-d8f703424322",
   "metadata": {
    "tags": []
   },
   "source": [
    "ref_planes_dy"
   ]
  },
  {
   "cell_type": "raw",
   "id": "6535f9ac-f315-4468-90b4-b04940b80732",
   "metadata": {
    "tags": []
   },
   "source": [
    "# create the reference plane axes\n",
    "ref_plane_axes = []\n",
    "for ref_plane_y in ref_planes_y:\n",
    "    ref_plane_axes.append(\n",
    "        aux_vedo.custom_axes(\n",
    "            area=[area[0], area[1], ref_plane_y, ref_plane_y, area[4], area[5]],\n",
    "            grids=[False, False, True, False, False, False]\n",
    "        )\n",
    "    )"
   ]
  },
  {
   "cell_type": "raw",
   "id": "edf5a9ba-8862-4717-b666-d67ce214c52e",
   "metadata": {},
   "source": [
    "pl = vedo.Plotter()\n",
    "\n",
    "pl += area_axes\n",
    "\n",
    "pl += ref_plane_axes\n",
    "\n",
    "pl.show(\n",
    "    axes=0, zoom=1, \n",
    "    viewup=(0,0,-1)\n",
    ")"
   ]
  },
  {
   "cell_type": "raw",
   "id": "6ad2c06b-3b84-4d91-ab0e-ad9f788e3af9",
   "metadata": {
    "tags": []
   },
   "source": [
    "# Create a reference circle at each reference plane\n",
    "ref_points = []\n",
    "ref_radius = 0.4*np.min([area[1] - area[0], area[5] - area[4]])\n",
    "pts = vedo.Circle(\n",
    "    pos = (0, 0, 0),\n",
    "    r = ref_radius,\n",
    "    res=8,\n",
    "    c='red4'\n",
    ").ps(4)\n",
    "pts.vertices[:,[2,0,1]] = pts.vertices[:,[0,1,2]]\n",
    "pts.vertices[:,0] += area_center[0]\n",
    "pts.vertices[:,2] += area_center[2]\n",
    "ref_planes_x0 = np.linspace(4000, -4000, ref_planes_number)\n",
    "ref_planes_z0 = np.linspace(-500, 500, ref_planes_number)\n",
    "for ref_plane_y, ref_plane_x0, ref_plane_z0 in zip(ref_planes_y, ref_planes_x0, ref_planes_z0):\n",
    "    pts1 = pts.copy()\n",
    "    pts1.vertices[:,0] += ref_plane_x0\n",
    "    pts1.vertices[:,1] = ref_plane_y\n",
    "    pts1.vertices[:,2] += ref_plane_z0\n",
    "    ref_points.append(pts1)"
   ]
  },
  {
   "cell_type": "raw",
   "id": "fd3bbe46-8d92-4ac9-9778-554037740a8f",
   "metadata": {
    "tags": []
   },
   "source": [
    "# Create splines at each plane\n",
    "pl = vedo.Plotter()\n",
    "\n",
    "pl += area_axes\n",
    "\n",
    "pl += ref_plane_axes\n",
    "\n",
    "pl += ref_points\n",
    "\n",
    "# pl.show(\n",
    "#     axes=0, zoom=1\n",
    "# )"
   ]
  },
  {
   "cell_type": "raw",
   "id": "f7ad0b04-625e-4f1d-9cd7-56766dcd681b",
   "metadata": {
    "tags": []
   },
   "source": [
    "splines = []\n",
    "for (ref_pts, ref_plane_y) in zip(ref_points, ref_planes_y):\n",
    "    # Add the spline tool using the same points and interact with it\n",
    "    sptool = pl.add_spline_tool(ref_pts, closed=True)\n",
    "\n",
    "    # Stay in the loop until the user presses q\n",
    "    pl.show(\n",
    "        axes=0, zoom=1, interactive=True\n",
    "    )\n",
    "    # pl.interactive()\n",
    "    \n",
    "    # Switch off the tool\n",
    "    sptool.off()\n",
    "\n",
    "    # Extract the resulting spline\n",
    "    sp = sptool.spline().lw(4).c('black')\n",
    "\n",
    "    # Create a second spline that pass exactly at \n",
    "    # the points on the reference plane\n",
    "    pts = sptool.nodes().copy()\n",
    "    pts[:,1] = ref_plane_y\n",
    "    sp2 = vedo.shapes.CSpline(points=pts, closed=True)\n",
    "    sp2.lw(4).c('red4')\n",
    "    splines.append(sp2)\n",
    "\n",
    "    # Visualize the splines\n",
    "    #pl += sp\n",
    "    pl += sp2\n",
    "    \n",
    "    # pl.show(\n",
    "    #     axes=0, zoom=1, \n",
    "    #     viewup=(0,0,-1)\n",
    "    # )\n",
    "\n",
    "pl.close()"
   ]
  },
  {
   "cell_type": "raw",
   "id": "7fc45035-0fb9-41cd-989b-736ac8518d82",
   "metadata": {
    "tags": []
   },
   "source": [
    "Nx = 70\n",
    "Nz = 40\n",
    "xgrid = np.linspace(area[0], area[1], Nx)\n",
    "zgrid = np.linspace(-500, 3000, Nz)"
   ]
  },
  {
   "cell_type": "raw",
   "id": "6201b286-c745-4332-8b17-dda647534313",
   "metadata": {
    "tags": []
   },
   "source": [
    "quad_meshes = []\n",
    "for (ref_plane_y, spline) in zip(ref_planes_y, splines):\n",
    "    grd = vedo.Grid(s=[xgrid, zgrid])\n",
    "    grd.vertices[:,2] = grd.vertices[:,1]\n",
    "    grd.vertices[:,1] = ref_plane_y\n",
    "    quad_meshes.append(\n",
    "        spline.generate_mesh(grid=grd, quads=True)\n",
    "    )"
   ]
  },
  {
   "cell_type": "raw",
   "id": "afca0597-9487-4613-9966-755e55fd398a",
   "metadata": {
    "tags": []
   },
   "source": [
    "pl = vedo.Plotter()\n",
    "\n",
    "pl += area_axes\n",
    "\n",
    "pl += ref_plane_axes\n",
    "\n",
    "pl += splines\n",
    "\n",
    "pl += quad_meshes\n",
    "\n",
    "pl.show(\n",
    "    axes=0, zoom=1, \n",
    "    viewup=(0,0,-1)\n",
    ").close()"
   ]
  },
  {
   "cell_type": "raw",
   "id": "aa9b3a0f-d6a5-4e6a-93ac-e559e849f6d4",
   "metadata": {
    "tags": []
   },
   "source": [
    "# create a model of prisms from the list of quad meshes on the planes\n",
    "model = aux_vedo.quad_mesh2prisms(quad_meshes=quad_meshes, dy=ref_planes_dy)"
   ]
  },
  {
   "cell_type": "raw",
   "id": "b5484e3e-cadc-409e-8f9f-305bcac03b5e",
   "metadata": {
    "tags": []
   },
   "source": [
    "# create a random physical property distribution for the prisms\n",
    "rng = np.random.default_rng(12345)\n",
    "props = rng.uniform(low=2, high=3, size=model['x1'].size)"
   ]
  },
  {
   "cell_type": "raw",
   "id": "1f4182a2-1d9f-4005-8f0c-114ddbe6efba",
   "metadata": {
    "tags": []
   },
   "source": [
    "# save the model\n",
    "pickle.dump(model, open('inclined_source.pickle', 'wb'))\n",
    "pickle.dump(props, open('props_inclined_source.pickle', 'wb'))"
   ]
  },
  {
   "cell_type": "code",
   "execution_count": 11,
   "id": "f848ffbd-7ea7-41e7-863a-02511c35b66b",
   "metadata": {},
   "outputs": [],
   "source": [
    "model = pickle.load(open('inclined_source.pickle', 'rb'))\n",
    "props = pickle.load(open('props_inclined_source.pickle', 'rb'))"
   ]
  },
  {
   "cell_type": "code",
   "execution_count": 12,
   "id": "5ea7a497-f727-4ca1-981d-b829855771c5",
   "metadata": {
    "tags": []
   },
   "outputs": [],
   "source": [
    "# create a model of prisms for vedo\n",
    "model_vedo = aux_vedo.gravmag2vedo_prisms(\n",
    "    gravmag_prisms=model,\n",
    "    scalar_props=props,\n",
    "    cmap='jet',\n",
    "    vmin=2,\n",
    "    vmax=3,\n",
    ")"
   ]
  },
  {
   "cell_type": "code",
   "execution_count": 13,
   "id": "9a6c373c-2deb-433e-8428-6fac84278df2",
   "metadata": {
    "tags": []
   },
   "outputs": [
    {
     "data": {
      "text/html": [
       "<table>\n",
       "<tr>\n",
       "<td>\n",
       "<img src='data:image/png;base64,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'></img>\n",
       "</td>\n",
       "<td style='text-align: center; vertical-align: center;'><br/>\n",
       "<b> Mesh: &nbsp&nbsp</b><b><a href=\"https://vedo.embl.es/docs/vedo/mesh.html#Mesh\" target=\"_blank\">vedo.mesh.Mesh</a></b>\n",
       "<table>\n",
       "<tr><td><b> bounds </b> <br/> (x/y/z) </td><td>4174 ... 1.357e+4<br/>5556 ... 1.444e+4<br/>-320.5 ... 2551</td></tr>\n",
       "<tr><td><b> center of mass </b></td><td>(9.43e+3, 9.85e+3, 1.33e+3)</td></tr>\n",
       "<tr><td><b> average size </b></td><td>3072.586</td></tr>\n",
       "<tr><td><b> nr. points&nbsp/&nbspfaces </b></td><td>12552&nbsp/&nbsp3138</td></tr>\n",
       "\n",
       "<tr><td><b> cell data array </b></td><td>Scalars</td></tr>\n",
       "</table>\n",
       "</table>"
      ],
      "text/plain": [
       "<vedo.mesh.Mesh at 0x70caa7234c50>"
      ]
     },
     "execution_count": 13,
     "metadata": {},
     "output_type": "execute_result"
    }
   ],
   "source": [
    "# add a colorbar to the prisms\n",
    "model_vedo.add_scalarbar(\n",
    "    title='props (SI)', \n",
    "    pos=(0.8,0.05),\n",
    "    title_yoffset=15,\n",
    "    font_size=14,\n",
    "    #nlabels=5,\n",
    "    #horizontal=True,\n",
    "    label_format=':6.2f'\n",
    ")"
   ]
  },
  {
   "cell_type": "code",
   "execution_count": 34,
   "id": "8fa33e6a-ff50-4eff-9159-c52bdec62aa6",
   "metadata": {
    "tags": []
   },
   "outputs": [
    {
     "data": {
      "text/plain": [
       "<vedo.plotter.Plotter at 0x70ca98dba450>"
      ]
     },
     "execution_count": 34,
     "metadata": {},
     "output_type": "execute_result"
    }
   ],
   "source": [
    "pl = vedo.Plotter()\n",
    "\n",
    "pl += area_axes\n",
    "\n",
    "pl += model_vedo.alpha(0.9)\n",
    "\n",
    "# set a model view\n",
    "pl.show(\n",
    "    axes=0, zoom=1, interactive=True\n",
    ")\n",
    "\n",
    "# save the chosen view\n",
    "pl.show(axes=0, zoom=0.95, interactive=False)\n",
    "pl.screenshot('inclined_source_view_2.png')\n",
    "pl.interactive()\n",
    "\n",
    "pl.close()"
   ]
  },
  {
   "cell_type": "markdown",
   "id": "15950ca6-11e9-41f3-8739-b8d1d90ba295",
   "metadata": {},
   "source": [
    "### Compute the approximated total-field anomalies for different induced magnetization directions"
   ]
  },
  {
   "cell_type": "code",
   "execution_count": 15,
   "id": "41c9ecaf-90d2-4c57-bcc4-884f351fecbb",
   "metadata": {
    "tags": []
   },
   "outputs": [],
   "source": [
    "inc = 20.2\n",
    "dec_list = np.linspace(-45, 135, 11)"
   ]
  },
  {
   "cell_type": "code",
   "execution_count": 49,
   "id": "6531d51a-187f-4315-a7e8-46aca7cd202f",
   "metadata": {
    "tags": []
   },
   "outputs": [],
   "source": [
    "coordinates_grid = data_structures.grid_xy(\n",
    "    area = area[:4],\n",
    "    shape = (100, 105),\n",
    "    z0 = -400\n",
    ")"
   ]
  },
  {
   "cell_type": "code",
   "execution_count": 50,
   "id": "c8956947-87d3-4dc9-89c7-18898b62d3c8",
   "metadata": {
    "tags": []
   },
   "outputs": [],
   "source": [
    "dx, dy = data_structures.grid_xy_spacing(\n",
    "    area=coordinates_grid['area'],\n",
    "    shape=coordinates_grid['shape']\n",
    ")"
   ]
  },
  {
   "cell_type": "code",
   "execution_count": 51,
   "id": "6fc90993-a8fa-4329-a25e-a4d736d3b208",
   "metadata": {
    "tags": []
   },
   "outputs": [
    {
     "data": {
      "text/plain": [
       "(181.8181818181818, 201.92307692307693)"
      ]
     },
     "execution_count": 51,
     "metadata": {},
     "output_type": "execute_result"
    }
   ],
   "source": [
    "dx, dy"
   ]
  },
  {
   "cell_type": "code",
   "execution_count": 52,
   "id": "0b537248-8026-4bd4-a867-317d74d0299c",
   "metadata": {
    "tags": []
   },
   "outputs": [],
   "source": [
    "coordinates_full = data_structures.grid_xy_to_full_flatten(\n",
    "    grid=coordinates_grid,\n",
    "    ordering='xy'\n",
    ")"
   ]
  },
  {
   "cell_type": "code",
   "execution_count": 53,
   "id": "3ca5a102-ffe1-4b12-a2d5-903dd359568c",
   "metadata": {
    "tags": []
   },
   "outputs": [],
   "source": [
    "tfa_list = []\n",
    "for dec in dec_list:\n",
    "    hat_u = utils.unit_vector(inc=inc, dec=dec)\n",
    "    b = []\n",
    "    for component in ['x', 'y', 'z']:\n",
    "        b.append(\n",
    "            rp.mag(\n",
    "                coordinates=coordinates_full, \n",
    "                prisms=model, \n",
    "                mx=hat_u[0]*props, \n",
    "                my=hat_u[1]*props, \n",
    "                mz=hat_u[2]*props,\n",
    "                field=component\n",
    "            )\n",
    "        )\n",
    "    tfa_list.append(hat_u[0]*b[0] + hat_u[1]*b[1] + hat_u[2]*b[2])"
   ]
  },
  {
   "cell_type": "code",
   "execution_count": 54,
   "id": "423228cf-4037-464c-9c23-fad102b32744",
   "metadata": {
    "tags": []
   },
   "outputs": [],
   "source": [
    "rtp = rp.mag(\n",
    "    coordinates=coordinates_full, \n",
    "    prisms=model, \n",
    "    mx=np.zeros_like(props), \n",
    "    my=np.zeros_like(props), \n",
    "    mz=props,\n",
    "    field='z'\n",
    ")"
   ]
  },
  {
   "cell_type": "markdown",
   "id": "dad221de-df4b-4472-9e6b-7e612be357ae",
   "metadata": {},
   "source": [
    "### Plot the data"
   ]
  },
  {
   "cell_type": "code",
   "execution_count": 55,
   "id": "6a168dc3-6cd2-4155-b34e-58573bfcf2d9",
   "metadata": {
    "tags": []
   },
   "outputs": [],
   "source": [
    "# coordinates rearranged for plotting\n",
    "# they are \"views' of the original coordinates in 'coordinates_grid'\n",
    "X, Y = data_structures.grid_xy_to_full_matrices_view(\n",
    "    x = coordinates_grid['x'],\n",
    "    y = coordinates_grid['y'],\n",
    "    shape = coordinates_grid['shape']\n",
    ")"
   ]
  },
  {
   "cell_type": "code",
   "execution_count": 56,
   "id": "167cd247-eb3b-40aa-90c1-efec712a435a",
   "metadata": {
    "tags": []
   },
   "outputs": [
    {
     "data": {
      "image/png": "[encoded data removed]",
      "text/plain": [
       "<Figure size 1000x1000 with 24 Axes>"
      ]
     },
     "metadata": {},
     "output_type": "display_data"
    }
   ],
   "source": [
    "# plot figure\n",
    "fig = plt.figure(\n",
    "    layout= 'tight', \n",
    "    figsize=(10,10)\n",
    ")\n",
    "mosaic = fig.subplot_mosaic(\n",
    "    mosaic = '''\n",
    "             abc\n",
    "             def\n",
    "             ghi\n",
    "             jkl\n",
    "             ''',\n",
    "    sharex=True, sharey=True\n",
    ")\n",
    "\n",
    "# plot the RTP\n",
    "bound_rtp = np.max(np.abs(rtp))\n",
    "ax = mosaic['a']\n",
    "ax.axis('scaled')\n",
    "im = ax.pcolormesh(\n",
    "    Y*0.001, X*0.001, \n",
    "    data_structures.grid_xy_full_flatten_to_matrix(\n",
    "        data=rtp,\n",
    "        ordering='xy',\n",
    "        shape=coordinates_grid['shape']\n",
    "    ),\n",
    "    cmap='seismic', vmin=-bound_rtp, vmax=bound_rtp\n",
    ")\n",
    "ax_divider = make_axes_locatable(ax)\n",
    "cax = ax_divider.append_axes(\"right\", size=\"5%\", pad=\"2%\")\n",
    "cb = fig.colorbar(im, cax=cax)\n",
    "cb.ax.tick_params(labelsize=10)\n",
    "cb.ax.set_xlabel('nT', fontsize=14, loc='left')\n",
    "ax.set_ylim(0.001*coordinates_grid['area'][0], 0.001*coordinates_grid['area'][1])\n",
    "ax.set_xlim(0.001*coordinates_grid['area'][2], 0.001*coordinates_grid['area'][3])\n",
    "ax.tick_params(axis='x', labelsize=12)\n",
    "ax.tick_params(axis='y', labelsize=12)\n",
    "ax.grid()\n",
    "ax.annotate('(a)', xy=(0.02, 0.88), xycoords='axes fraction', fontsize=16)\n",
    "\n",
    "mosaic_elements = [\n",
    "    'b', 'c', 'd', 'e', 'f', 'g', 'h', 'i', 'j', 'k', 'l'\n",
    "]\n",
    "\n",
    "labels = [\n",
    "    '(b)', '(c)', '(d)', '(e)', '(f)', '(g)', '(h)', '(i)', '(j)', '(k)', '(l)'\n",
    "]\n",
    "\n",
    "bound_tfa = np.max(np.abs(tfa_list))\n",
    "\n",
    "for (mosaic_element, tfa, dec, label) in zip(\n",
    "    mosaic_elements, tfa_list, dec_list, labels\n",
    "):\n",
    "    hat_u = utils.unit_vector(inc=inc, dec=dec)\n",
    "    hat_u_horizontal = hat_u[:2]/np.linalg.norm(hat_u[:2])\n",
    "    \n",
    "    \n",
    "\n",
    "    ax = mosaic[mosaic_element]\n",
    "    ax.axis('scaled')\n",
    "    im = ax.pcolormesh(\n",
    "        Y*0.001, X*0.001, \n",
    "        data_structures.grid_xy_full_flatten_to_matrix(\n",
    "            data=tfa,\n",
    "            ordering='xy',\n",
    "            shape=coordinates_grid['shape']\n",
    "        ),\n",
    "        cmap='seismic', vmin=-bound_tfa, vmax=bound_tfa\n",
    "    )\n",
    "    ax_divider = make_axes_locatable(ax)\n",
    "    cax = ax_divider.append_axes(\"right\", size=\"5%\", pad=\"2%\")\n",
    "    cb = fig.colorbar(im, cax=cax)\n",
    "    cb.ax.tick_params(labelsize=10)\n",
    "    cb.ax.set_xlabel('nT', fontsize=14, loc='left')\n",
    "    ax.set_ylim(0.001*coordinates_grid['area'][0], 0.001*coordinates_grid['area'][1])\n",
    "    ax.set_xlim(0.001*coordinates_grid['area'][2], 0.001*coordinates_grid['area'][3])\n",
    "    ax.tick_params(axis='x', labelsize=12)\n",
    "    ax.tick_params(axis='y', labelsize=12)\n",
    "    ax.grid()\n",
    "    ax.annotate(label, xy=(0.02, 0.88), xycoords='axes fraction', fontsize=16)\n",
    "    ax.arrow(\n",
    "        x=6, y=5.2, dx=hat_u_horizontal[1], dy=hat_u_horizontal[0], \n",
    "        width=0.2, length_includes_head=False, head_width=0.6, linewidth=1.5, color='black'\n",
    "    )\n",
    "\n",
    "# set vertical and horizontal spaces between subplots\n",
    "#fig.subplots_adjust(wspace=0.20, hspace=0.30)\n",
    "    \n",
    "for element in ['a','d','g','j']:\n",
    "    mosaic[element].set_ylabel('x (km)', fontsize=16)\n",
    "for element in ['j','k', 'l']:\n",
    "    mosaic[element].set_xlabel('y (km)', fontsize=16)\n",
    "\n",
    "plt.savefig('tfa_inclined_source.png', dpi=300)\n",
    "\n",
    "plt.show()"
   ]
  },
  {
   "cell_type": "code",
   "execution_count": null,
   "id": "9aa308ad-3307-4240-bedd-a98dab4ec98b",
   "metadata": {},
   "outputs": [],
   "source": []
  }
 ],
 "metadata": {
  "kernelspec": {
   "display_name": "Python 3 (ipykernel)",
   "language": "python",
   "name": "python3"
  },
  "language_info": {
   "codemirror_mode": {
    "name": "ipython",
    "version": 3
   },
   "file_extension": ".py",
   "mimetype": "text/x-python",
   "name": "python",
   "nbconvert_exporter": "python",
   "pygments_lexer": "ipython3",
   "version": "3.11.8"
  }
 },
 "nbformat": 4,
 "nbformat_minor": 5
}
