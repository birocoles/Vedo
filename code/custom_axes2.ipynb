{
 "cells": [
  {
   "cell_type": "raw",
   "id": "008073e4-013b-47f5-affb-e82ad7ac9020",
   "metadata": {},
   "source": [
    "https://github.com/marcomusy/vedo/blob/master/examples/pyplot/custom_axes2.py"
   ]
  },
  {
   "cell_type": "code",
   "execution_count": 1,
   "id": "cc0ac1a2-f185-4cbd-856d-7cddcc7cc3db",
   "metadata": {
    "tags": []
   },
   "outputs": [],
   "source": [
    "import vedo\n",
    "import numpy as np"
   ]
  },
  {
   "cell_type": "code",
   "execution_count": 2,
   "id": "299dfd8b-c838-4c27-b716-c12e9d6c1ed8",
   "metadata": {},
   "outputs": [],
   "source": [
    "vedo.settings.default_backend= 'vtk'"
   ]
  },
  {
   "cell_type": "code",
   "execution_count": 3,
   "id": "5dadcff1-2dcd-4f65-896c-c1c186f5865e",
   "metadata": {
    "tags": []
   },
   "outputs": [],
   "source": [
    "pts = np.random.randn(2000,3)*[3,2,4]-[1,2,3]\n",
    "vpts1 = vedo.Points(pts).alpha(0.2).c('blue2')\n",
    "vpts2 = vpts1.clone().shift(5,6,7).c('green2')"
   ]
  },
  {
   "cell_type": "code",
   "execution_count": 8,
   "id": "bc10cf40-8b34-4d7a-b3e2-a67020d40cd7",
   "metadata": {
    "tags": []
   },
   "outputs": [
    {
     "data": {
      "text/plain": [
       "<vedo.plotter.Plotter at 0x7f478c791f10>"
      ]
     },
     "execution_count": 8,
     "metadata": {},
     "output_type": "execute_result"
    }
   ],
   "source": [
    "axs = vedo.Axes(\n",
    "    [vpts1, vpts2],  # build axes for this set of objects\n",
    "    xtitle=\"X-axis in :mum\",\n",
    "    ytitle=\"Variable Y in :mum\",\n",
    "    ztitle=\"Inverted Z in :mum\",\n",
    "    htitle='My :Gamma^2_ijk  plot',\n",
    "    htitle_font='Kanopus',\n",
    "    htitle_color='red2',\n",
    "    htitle_size=0.035,\n",
    "    htitle_offset=(0,0.075,0),\n",
    "    htitle_rotation=45,\n",
    "    zhighlight_zero=True,\n",
    "    xyframe_line=2, yzframe_line=1, zxframe_line=1,\n",
    "    xyframe_color='red3',\n",
    "    xyshift=1.05, # move xy 5% above the top of z-range\n",
    "    yzgrid=True,\n",
    "    zxgrid=True,\n",
    "    zxshift=1.0,\n",
    "    xtitle_justify='bottom-right',\n",
    "    xtitle_offset=-1.175,\n",
    "    xlabel_offset=-1.75,\n",
    "    ylabel_rotation=90,\n",
    "    z_inverted=False,\n",
    "    tip_size=0.25,\n",
    ")\n",
    "\n",
    "vedo.show(vpts1, vpts2, axs, \"Customizing Axes\", viewup='z')"
   ]
  },
  {
   "cell_type": "code",
   "execution_count": null,
   "id": "953c5927-757a-455e-8709-0712fa14121d",
   "metadata": {},
   "outputs": [],
   "source": []
  }
 ],
 "metadata": {
  "kernelspec": {
   "display_name": "Python 3 (ipykernel)",
   "language": "python",
   "name": "python3"
  },
  "language_info": {
   "codemirror_mode": {
    "name": "ipython",
    "version": 3
   },
   "file_extension": ".py",
   "mimetype": "text/x-python",
   "name": "python",
   "nbconvert_exporter": "python",
   "pygments_lexer": "ipython3",
   "version": "3.11.8"
  }
 },
 "nbformat": 4,
 "nbformat_minor": 5
}
