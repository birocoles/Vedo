{
 "cells": [
  {
   "cell_type": "markdown",
   "id": "27de9e77-cfff-4084-a560-270c7506da55",
   "metadata": {},
   "source": [
    "# Iterative Vedo model builder"
   ]
  },
  {
   "cell_type": "code",
   "execution_count": 1,
   "id": "4e5ffad5-3cc4-4193-81e3-729c0d61de4e",
   "metadata": {
    "tags": []
   },
   "outputs": [],
   "source": [
    "import numpy as np"
   ]
  },
  {
   "cell_type": "code",
   "execution_count": 2,
   "id": "98666188-b533-43a7-99ad-02ee095c22d0",
   "metadata": {
    "tags": []
   },
   "outputs": [],
   "source": [
    "import vedo"
   ]
  },
  {
   "cell_type": "code",
   "execution_count": 3,
   "id": "15a6bfb1-120b-479f-bd14-5f0a062000fa",
   "metadata": {
    "tags": []
   },
   "outputs": [],
   "source": [
    "# set the backend for vedo\n",
    "vedo.settings.default_backend= 'vtk'\n",
    "#vedo.settings.default_backend= '2d'"
   ]
  },
  {
   "cell_type": "code",
   "execution_count": 4,
   "id": "3fb3c002-6540-428a-90ec-d3a3b19de848",
   "metadata": {
    "tags": []
   },
   "outputs": [],
   "source": [
    "from gravmag import aux_vedo"
   ]
  },
  {
   "cell_type": "code",
   "execution_count": 5,
   "id": "b0a43395-e453-4409-a4e9-f9c245286ff1",
   "metadata": {
    "tags": []
   },
   "outputs": [],
   "source": [
    "# define the study area\n",
    "# xmin, xmax, ymin, ymax, zmin, zmax\n",
    "area = [-5000, 4000, 3500, 11500, -500, 6500]"
   ]
  },
  {
   "cell_type": "code",
   "execution_count": 6,
   "id": "3de24181-f920-4405-8115-09bf133319e4",
   "metadata": {
    "tags": []
   },
   "outputs": [],
   "source": [
    "# define the center coordinates\n",
    "area_center = (\n",
    "    0.5*(area[0]+area[1]),\n",
    "    0.5*(area[2]+area[3]),\n",
    "    0.5*(area[4]+area[5])\n",
    ")"
   ]
  },
  {
   "cell_type": "code",
   "execution_count": 7,
   "id": "122ec4d1-8202-48e0-866f-bd5e9e0eea1c",
   "metadata": {
    "tags": []
   },
   "outputs": [],
   "source": [
    "# custom axes defining the study area\n",
    "area_axes = aux_vedo.custom_axes(area=area)"
   ]
  },
  {
   "cell_type": "code",
   "execution_count": 8,
   "id": "e96e0c93-43c3-4446-91c9-5b9027907c8a",
   "metadata": {
    "tags": []
   },
   "outputs": [
    {
     "data": {
      "text/plain": [
       "<vedo.plotter.Plotter at 0x7ea16963b910>"
      ]
     },
     "execution_count": 8,
     "metadata": {},
     "output_type": "execute_result"
    }
   ],
   "source": [
    "pl = vedo.Plotter()\n",
    "\n",
    "pl += area_axes\n",
    "\n",
    "# set a model view\n",
    "pl.show(\n",
    "    axes=0, zoom=1, interactive=True\n",
    ")\n",
    "\n",
    "# save the chosen view\n",
    "pl.show(axes=0, zoom=0.95, interactive=False)\n",
    "#pl.screenshot('iterative_model_builder_1.png')\n",
    "pl.interactive()"
   ]
  },
  {
   "cell_type": "code",
   "execution_count": 9,
   "id": "1ce49879-478d-43e2-bdcd-696822779e54",
   "metadata": {
    "tags": []
   },
   "outputs": [],
   "source": [
    "# define a set of planes to create de splines\n",
    "# for convenience, the planes will be orthogonal to the y-axis\n",
    "ref_planes_number = 3\n",
    "ref_planes_ymin = 4600\n",
    "ref_planes_ymax = 10000\n",
    "ref_planes_y = np.linspace(\n",
    "    ref_planes_ymin, ref_planes_ymax, ref_planes_number\n",
    ")"
   ]
  },
  {
   "cell_type": "code",
   "execution_count": 10,
   "id": "39403d14-d742-437f-8712-19aaa16961d8",
   "metadata": {
    "tags": []
   },
   "outputs": [
    {
     "data": {
      "text/plain": [
       "array([ 4600.,  7300., 10000.])"
      ]
     },
     "execution_count": 10,
     "metadata": {},
     "output_type": "execute_result"
    }
   ],
   "source": [
    "ref_planes_y"
   ]
  },
  {
   "cell_type": "code",
   "execution_count": 11,
   "id": "39119cd0-622a-44d7-ac1f-3589b67129e7",
   "metadata": {
    "tags": []
   },
   "outputs": [],
   "source": [
    "ref_planes_dy = (\n",
    "    (ref_planes_ymax - ref_planes_ymin)/(ref_planes_number - 1)\n",
    ")"
   ]
  },
  {
   "cell_type": "code",
   "execution_count": 12,
   "id": "ab6dfa8f-c98b-4b69-b825-d60fabac20aa",
   "metadata": {
    "tags": []
   },
   "outputs": [
    {
     "data": {
      "text/plain": [
       "2700.0"
      ]
     },
     "execution_count": 12,
     "metadata": {},
     "output_type": "execute_result"
    }
   ],
   "source": [
    "ref_planes_dy"
   ]
  },
  {
   "cell_type": "code",
   "execution_count": 13,
   "id": "200ab7b6-4866-4c48-9043-3c571f47fba9",
   "metadata": {
    "tags": []
   },
   "outputs": [],
   "source": [
    "# create the reference plane axes\n",
    "ref_plane_axes = []\n",
    "for ref_plane_y in ref_planes_y:\n",
    "    ref_plane_axes.append(\n",
    "        aux_vedo.custom_axes(\n",
    "            area=[area[0], area[1], ref_plane_y, ref_plane_y, area[4], area[5]],\n",
    "            grids=[False, False, True, False, False, False]\n",
    "        )\n",
    "    )"
   ]
  },
  {
   "cell_type": "code",
   "execution_count": 14,
   "id": "0437bf71-d92b-4751-93af-fcf7871e7e71",
   "metadata": {},
   "outputs": [
    {
     "data": {
      "text/plain": [
       "<vedo.plotter.Plotter at 0x7ea16963b910>"
      ]
     },
     "execution_count": 14,
     "metadata": {},
     "output_type": "execute_result"
    }
   ],
   "source": [
    "# include the reference planes in the plotter\n",
    "pl += ref_plane_axes\n",
    "\n",
    "# save the chosen view\n",
    "pl.show(axes=0, zoom=0.95, interactive=False)\n",
    "#pl.screenshot('iterative_model_builder_2.png')\n",
    "pl.interactive()"
   ]
  },
  {
   "cell_type": "code",
   "execution_count": 15,
   "id": "b8d60542-fd02-46a1-b7ae-15b571131e4b",
   "metadata": {
    "tags": []
   },
   "outputs": [],
   "source": [
    "# Create a reference circle at each reference plane\n",
    "ref_points = []\n",
    "ref_radius = 0.4*np.min([area[1] - area[0], area[5] - area[4]])\n",
    "pts = vedo.Circle(\n",
    "    pos = (0, 0, 0),\n",
    "    r = ref_radius,\n",
    "    res=8,\n",
    "    c='red4'\n",
    ").ps(4)\n",
    "pts.vertices[:,[2,0,1]] = pts.vertices[:,[0,1,2]]\n",
    "pts.vertices[:,0] += area_center[0]\n",
    "pts.vertices[:,2] += area_center[2]\n",
    "for ref_plane_y in ref_planes_y:\n",
    "    pts = pts.copy()\n",
    "    pts.vertices[:,1] = ref_plane_y\n",
    "    ref_points.append(pts)"
   ]
  },
  {
   "cell_type": "code",
   "execution_count": 16,
   "id": "836364d5-4b7e-4270-80b3-c1d7fc9e9bd2",
   "metadata": {
    "tags": []
   },
   "outputs": [
    {
     "data": {
      "text/plain": [
       "<vedo.plotter.Plotter at 0x7ea16963b910>"
      ]
     },
     "execution_count": 16,
     "metadata": {},
     "output_type": "execute_result"
    }
   ],
   "source": [
    "# include the reference points in the plotter\n",
    "for points in ref_points:\n",
    "    pl += points.point_size(7).alpha(0.7)\n",
    "\n",
    "# save the chosen view\n",
    "pl.show(axes=0, zoom=0.95, interactive=False)\n",
    "#pl.screenshot('iterative_model_builder_3.png')\n",
    "pl.interactive()"
   ]
  },
  {
   "cell_type": "code",
   "execution_count": 17,
   "id": "22090c48-c339-414f-9f58-65523e3d53f6",
   "metadata": {
    "tags": []
   },
   "outputs": [],
   "source": [
    "splines = []\n",
    "for k, (ref_pts, ref_plane_y) in enumerate(zip(ref_points, ref_planes_y)):\n",
    "    # Add the spline tool using the same points and interact with it\n",
    "    sptool = pl.add_spline_tool(ref_pts, closed=True)\n",
    "\n",
    "    # Stay in the loop until the user presses q\n",
    "    # save the chosen view\n",
    "    pl.show(axes=0, zoom=0.95, interactive=False)\n",
    "    #pl.screenshot('iterative_model_builder_4_{}a.png'.format(k+1))\n",
    "    pl.interactive()\n",
    "    \n",
    "    # Extract the resulting spline\n",
    "    sp = sptool.spline().lw(4).c('black')\n",
    "    \n",
    "    # Switch off the tool\n",
    "    sptool.off()\n",
    "\n",
    "    # Create a second spline that pass exactly at \n",
    "    # the points on the reference plane\n",
    "    pts = sptool.nodes().copy()\n",
    "    pts[:,1] = ref_plane_y\n",
    "    sp2 = vedo.shapes.CSpline(points=pts, closed=True)\n",
    "    sp2.lw(4).c('red4')\n",
    "    splines.append(sp2)\n",
    "\n",
    "    # Visualize the splines\n",
    "    #pl += sp\n",
    "    pl += sp2.alpha(0.7)\n",
    "    \n",
    "    # save the chosen view\n",
    "    pl.show(axes=0, zoom=0.95, interactive=False)\n",
    "    #pl.screenshot('iterative_model_builder_4_{}b.png'.format(k+1))\n",
    "    pl.interactive()\n",
    "\n",
    "#pl.close()"
   ]
  },
  {
   "cell_type": "code",
   "execution_count": 18,
   "id": "d13cb143-5b07-4877-8e14-84385e4003a4",
   "metadata": {
    "tags": []
   },
   "outputs": [],
   "source": [
    "Nx = 30\n",
    "Nz = 21\n",
    "xgrid = np.linspace(area[0], area[1], Nx)\n",
    "zgrid = np.linspace(area[4], area[5], Nz)"
   ]
  },
  {
   "cell_type": "code",
   "execution_count": 19,
   "id": "bf07dbd1-6ca6-482d-ad2e-0dbf2259e010",
   "metadata": {
    "tags": []
   },
   "outputs": [],
   "source": [
    "quad_meshes = []\n",
    "for (ref_plane_y, spline) in zip(ref_planes_y, splines):\n",
    "    grd = vedo.Grid(s=[xgrid, zgrid])\n",
    "    grd.vertices[:,2] = grd.vertices[:,1]\n",
    "    grd.vertices[:,1] = ref_plane_y\n",
    "    quad_meshes.append(\n",
    "        spline.generate_mesh(grid=grd, quads=True)\n",
    "    )"
   ]
  },
  {
   "cell_type": "code",
   "execution_count": 20,
   "id": "4de03016-2ae2-4e57-8ce8-44f677610d89",
   "metadata": {
    "tags": []
   },
   "outputs": [
    {
     "data": {
      "text/plain": [
       "<vedo.plotter.Plotter at 0x7ea16963b910>"
      ]
     },
     "execution_count": 20,
     "metadata": {},
     "output_type": "execute_result"
    }
   ],
   "source": [
    "for quad_mesh in quad_meshes:\n",
    "    pl += quad_mesh.alpha(0.7)\n",
    "\n",
    "# save the chosen view\n",
    "pl.show(axes=0, zoom=0.95, interactive=False)\n",
    "#pl.screenshot('iterative_model_builder_5.png')\n",
    "pl.interactive()"
   ]
  },
  {
   "cell_type": "code",
   "execution_count": 21,
   "id": "ce063d89-88d2-4168-9f77-ca38786abe86",
   "metadata": {
    "tags": []
   },
   "outputs": [],
   "source": [
    "# create a model of prisms from the list of quad meshes on the planes\n",
    "model = aux_vedo.quad_mesh2prisms(quad_meshes=quad_meshes, dy=ref_planes_dy)"
   ]
  },
  {
   "cell_type": "code",
   "execution_count": 22,
   "id": "a9320f58-006c-4861-9f68-4679fda56a73",
   "metadata": {
    "tags": []
   },
   "outputs": [],
   "source": [
    "# create a random physical property distribution for the prisms\n",
    "rng = np.random.default_rng(12345)\n",
    "props = rng.uniform(low=2, high=3, size=model['x1'].size)"
   ]
  },
  {
   "cell_type": "code",
   "execution_count": 23,
   "id": "5ea7a497-f727-4ca1-981d-b829855771c5",
   "metadata": {
    "tags": []
   },
   "outputs": [],
   "source": [
    "# create a model of prisms for vedo\n",
    "model_vedo = aux_vedo.gravmag2vedo_prisms(\n",
    "    gravmag_prisms=model,\n",
    "    scalar_props=props,\n",
    "    cmap='jet',\n",
    "    vmin=2,\n",
    "    vmax=3,\n",
    ")"
   ]
  },
  {
   "cell_type": "code",
   "execution_count": 24,
   "id": "9a6c373c-2deb-433e-8428-6fac84278df2",
   "metadata": {
    "tags": []
   },
   "outputs": [
    {
     "data": {
      "text/html": [
       "<table>\n",
       "<tr>\n",
       "<td>\n",
       "<img src='data:image/png;base64,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'></img>\n",
       "</td>\n",
       "<td style='text-align: center; vertical-align: center;'><br/>\n",
       "<b> Mesh: &nbsp&nbsp</b><b><a href=\"https://vedo.embl.es/docs/vedo/mesh.html#Mesh\" target=\"_blank\">vedo.mesh.Mesh</a></b>\n",
       "<table>\n",
       "<tr><td><b> bounds </b> <br/> (x/y/z) </td><td>-3138 ... 2138<br/>3250 ... 1.135e+4<br/>550.0 ... 5800</td></tr>\n",
       "<tr><td><b> center of mass </b></td><td>(-119, 7.06e+3, 3.45e+3)</td></tr>\n",
       "<tr><td><b> average size </b></td><td>2848.990</td></tr>\n",
       "<tr><td><b> nr. points&nbsp/&nbspfaces </b></td><td>9120&nbsp/&nbsp2280</td></tr>\n",
       "\n",
       "<tr><td><b> cell data array </b></td><td>Scalars</td></tr>\n",
       "</table>\n",
       "</table>"
      ],
      "text/plain": [
       "<vedo.mesh.Mesh at 0x7ea135742dd0>"
      ]
     },
     "execution_count": 24,
     "metadata": {},
     "output_type": "execute_result"
    }
   ],
   "source": [
    "# add a colorbar to the prisms\n",
    "model_vedo.add_scalarbar(\n",
    "    title='props (SI)', \n",
    "    pos=(0.8,0.05),\n",
    "    title_yoffset=15,\n",
    "    font_size=14,\n",
    "    #nlabels=5,\n",
    "    #horizontal=True,\n",
    "    label_format=':6.2f'\n",
    ")"
   ]
  },
  {
   "cell_type": "code",
   "execution_count": 25,
   "id": "726a2c77-fb1c-48fd-af02-7cd6cb525628",
   "metadata": {
    "tags": []
   },
   "outputs": [],
   "source": [
    "pl -= ref_plane_axes\n",
    "\n",
    "pl -= ref_points\n",
    "\n",
    "pl -= quad_meshes\n",
    "\n",
    "pl += model_vedo.alpha(0.9)\n",
    "\n",
    "# # set a model view\n",
    "# pl.show(\n",
    "#     axes=0, zoom=1, interactive=True\n",
    "# )\n",
    "\n",
    "# save the chosen view\n",
    "#print('view a')\n",
    "pl.show(axes=0, zoom=0.95, interactive=False)\n",
    "#pl.screenshot('iterative_model_builder_6a.png')\n",
    "pl.interactive()\n",
    "\n",
    "pl -= splines\n",
    "\n",
    "## save the chosen view with the splines on the reference planes\n",
    "#print('view b')\n",
    "#pl.show(axes=0, zoom=0.95, interactive=False)\n",
    "#pl.screenshot('iterative_model_builder_6b.png')\n",
    "#pl.interactive()\n",
    "\n",
    "## choose another view\n",
    "#print('set the new view c')\n",
    "#pl.show(axes=0, zoom=0.95, interactive=False)\n",
    "#pl.screenshot('iterative_model_builder_6c.png')\n",
    "#pl.interactive()\n",
    "\n",
    "## choose another view\n",
    "#print('set the new view d')\n",
    "#pl.show(axes=0, zoom=0.95, interactive=False)\n",
    "#pl.screenshot('iterative_model_builder_6d.png')"
   ]
  },
  {
   "cell_type": "code",
   "execution_count": 26,
   "id": "8ca77a01-1cd4-493a-be02-d0d430850d2e",
   "metadata": {
    "tags": []
   },
   "outputs": [
    {
     "data": {
      "text/plain": [
       "<vedo.plotter.Plotter at 0x7ea16963b910>"
      ]
     },
     "execution_count": 26,
     "metadata": {},
     "output_type": "execute_result"
    }
   ],
   "source": [
    "pl.interactive()\n",
    "pl.close()"
   ]
  },
  {
   "cell_type": "code",
   "execution_count": null,
   "id": "fdd2b498-91ef-4ee0-9b87-b26faf58a1e6",
   "metadata": {},
   "outputs": [],
   "source": []
  }
 ],
 "metadata": {
  "kernelspec": {
   "display_name": "Python 3 (ipykernel)",
   "language": "python",
   "name": "python3"
  },
  "language_info": {
   "codemirror_mode": {
    "name": "ipython",
    "version": 3
   },
   "file_extension": ".py",
   "mimetype": "text/x-python",
   "name": "python",
   "nbconvert_exporter": "python",
   "pygments_lexer": "ipython3",
   "version": "3.11.8"
  }
 },
 "nbformat": 4,
 "nbformat_minor": 5
}
