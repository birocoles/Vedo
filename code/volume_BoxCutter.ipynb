{
 "cells": [
  {
   "cell_type": "code",
   "execution_count": 1,
   "id": "fafa6a36-b01a-4645-861a-3e7216f759b5",
   "metadata": {},
   "outputs": [],
   "source": [
    "import vedo\n",
    "import numpy as np"
   ]
  },
  {
   "cell_type": "code",
   "execution_count": 2,
   "id": "76e6c847-1a8e-44c7-bd6d-d600e1448c87",
   "metadata": {},
   "outputs": [],
   "source": [
    "vedo.settings.default_backend= 'vtk'"
   ]
  },
  {
   "cell_type": "code",
   "execution_count": 3,
   "id": "6fd9bf53-08f3-49d5-9649-495418ed819d",
   "metadata": {},
   "outputs": [
    {
     "name": "stdout",
     "output_type": "stream",
     "text": [
      "vedo 2024.5.1\n"
     ]
    }
   ],
   "source": [
    "print(\"vedo\", vedo.__version__)"
   ]
  },
  {
   "cell_type": "code",
   "execution_count": 4,
   "id": "e5d4f3c8-5861-489b-b61c-cf6722935fd0",
   "metadata": {
    "tags": []
   },
   "outputs": [
    {
     "data": {
      "text/plain": [
       "<vedo.plotter.Plotter at 0x76ddfc403d90>"
      ]
     },
     "execution_count": 4,
     "metadata": {},
     "output_type": "execute_result"
    }
   ],
   "source": [
    "# generate an isosurface the volume for each value\n",
    "values = [0.1, 0.25, 0.4, 0.6, 0.75, 0.9]\n",
    "isos = vedo.Volume(vedo.dataurl+'quadric.vti').isosurface(values) # Mesh\n",
    "\n",
    "plt = vedo.show(isos, __doc__, axes=1, interactive=False)\n",
    "\n",
    "cutter = vedo.BoxCutter(isos)\n",
    "plt.add(cutter)\n",
    "\n",
    "plt.interactive()"
   ]
  },
  {
   "cell_type": "code",
   "execution_count": null,
   "id": "5cb4b3ab-4182-4c93-8cdb-206b228022db",
   "metadata": {},
   "outputs": [],
   "source": []
  }
 ],
 "metadata": {
  "kernelspec": {
   "display_name": "Python 3 (ipykernel)",
   "language": "python",
   "name": "python3"
  },
  "language_info": {
   "codemirror_mode": {
    "name": "ipython",
    "version": 3
   },
   "file_extension": ".py",
   "mimetype": "text/x-python",
   "name": "python",
   "nbconvert_exporter": "python",
   "pygments_lexer": "ipython3",
   "version": "3.11.8"
  }
 },
 "nbformat": 4,
 "nbformat_minor": 5
}
