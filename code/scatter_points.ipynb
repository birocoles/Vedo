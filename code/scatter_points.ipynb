{
 "cells": [
  {
   "cell_type": "code",
   "execution_count": 1,
   "id": "88318165-6ec7-4e5f-aba5-feb69bddeac0",
   "metadata": {},
   "outputs": [],
   "source": [
    "import vedo\n",
    "import numpy as np"
   ]
  },
  {
   "cell_type": "code",
   "execution_count": 2,
   "id": "5ec58ea8-10b4-4139-9547-f6e2608283b1",
   "metadata": {},
   "outputs": [],
   "source": [
    "vedo.settings.default_backend= 'vtk'"
   ]
  },
  {
   "cell_type": "code",
   "execution_count": 3,
   "id": "32352155-984b-4364-9fbe-ed58b56ccd77",
   "metadata": {},
   "outputs": [
    {
     "name": "stdout",
     "output_type": "stream",
     "text": [
      "vedo 2024.5.1\n"
     ]
    }
   ],
   "source": [
    "print(\"vedo\", vedo.__version__)"
   ]
  },
  {
   "cell_type": "code",
   "execution_count": 4,
   "id": "68b5a056-06ce-4f8f-8cf1-25f49805b62f",
   "metadata": {
    "tags": []
   },
   "outputs": [],
   "source": [
    "x = np.random.randn(100) * 40\n",
    "y = np.random.randn(100) * 20 + 20\n",
    "z = np.random.randn(100) * 30 + 40\n",
    "colors = vedo.color_map(z, name='viridis', vmin=np.min(z), vmax=np.max(z))"
   ]
  },
  {
   "cell_type": "code",
   "execution_count": 5,
   "id": "9885ec05-9f51-424b-baef-b5c556614bb6",
   "metadata": {
    "tags": []
   },
   "outputs": [
    {
     "data": {
      "text/plain": [
       "<vedo.plotter.Plotter at 0x7ecd0ab052d0>"
      ]
     },
     "execution_count": 5,
     "metadata": {},
     "output_type": "execute_result"
    }
   ],
   "source": [
    "pts = []\n",
    "for (xi, yi, zi, color) in zip(x, y, z, colors):\n",
    "    pt = vedo.Point(pos=(xi, yi, zi), c=color)\n",
    "    pts.append(pt)\n",
    "vedo.show(pts, axes=1, zoom=1.1).close()"
   ]
  },
  {
   "cell_type": "code",
   "execution_count": null,
   "id": "973492c9-be65-433f-9e90-43aece8cb4db",
   "metadata": {},
   "outputs": [],
   "source": []
  }
 ],
 "metadata": {
  "kernelspec": {
   "display_name": "Python 3 (ipykernel)",
   "language": "python",
   "name": "python3"
  },
  "language_info": {
   "codemirror_mode": {
    "name": "ipython",
    "version": 3
   },
   "file_extension": ".py",
   "mimetype": "text/x-python",
   "name": "python",
   "nbconvert_exporter": "python",
   "pygments_lexer": "ipython3",
   "version": "3.11.8"
  }
 },
 "nbformat": 4,
 "nbformat_minor": 5
}
