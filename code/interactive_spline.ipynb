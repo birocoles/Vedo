{
 "cells": [
  {
   "cell_type": "markdown",
   "id": "52e5b1ce-820b-4826-afe2-dcbb535be10e",
   "metadata": {},
   "source": [
    "# Modify a spline interactively"
   ]
  },
  {
   "cell_type": "code",
   "execution_count": 1,
   "id": "bda67561-3b97-4411-88b0-f72e6777e0f5",
   "metadata": {
    "tags": []
   },
   "outputs": [],
   "source": [
    "import numpy as np"
   ]
  },
  {
   "cell_type": "code",
   "execution_count": 2,
   "id": "a79ac1ad-57d9-4d82-ae25-eb1c7d60bd76",
   "metadata": {
    "tags": []
   },
   "outputs": [],
   "source": [
    "import vedo"
   ]
  },
  {
   "cell_type": "code",
   "execution_count": 3,
   "id": "e801c672-090d-427f-96b7-92bff2659cec",
   "metadata": {
    "tags": []
   },
   "outputs": [],
   "source": [
    "# set the backend for vedo\n",
    "vedo.settings.default_backend= 'vtk'\n",
    "#vedo.settings.default_backend= '2d'"
   ]
  },
  {
   "cell_type": "code",
   "execution_count": 21,
   "id": "7c64f5e3-bf01-493b-9a31-c7039e209914",
   "metadata": {
    "tags": []
   },
   "outputs": [],
   "source": [
    "# Create a set of points in space\n",
    "pts = vedo.Circle(res=8).ps(4)"
   ]
  },
  {
   "cell_type": "code",
   "execution_count": 22,
   "id": "4742588a-0424-4eb0-b0fd-af82af8dd70e",
   "metadata": {
    "tags": []
   },
   "outputs": [
    {
     "data": {
      "text/plain": [
       "<vedo.plotter.Plotter at 0x710306ba1610>"
      ]
     },
     "execution_count": 22,
     "metadata": {},
     "output_type": "execute_result"
    }
   ],
   "source": [
    "# Visualize the points\n",
    "plt = vedo.show(pts, __doc__, interactive=False, axes=1)\n",
    "\n",
    "# Add the spline tool using the same points and interact with it\n",
    "sptool = plt.add_spline_tool(pts, closed=True)\n",
    "\n",
    "# Add a callback to print the center of mass of the spline\n",
    "sptool.add_observer(\n",
    "    \"end of interaction\", \n",
    "    lambda o, e: (\n",
    "        print(f\"Spline changed! CM = {sptool.spline().center_of_mass()}\"),\n",
    "        print(f\"\\tNumber of points: {sptool.spline().vertices.size}\"),\n",
    "    )\n",
    ")\n",
    "\n",
    "# Stay in the loop until the user presses q\n",
    "plt.interactive()\n",
    "\n",
    "# Switch off the tool\n",
    "sptool.off()\n",
    "\n",
    "# Extract the resulting spline\n",
    "sp = sptool.spline().lw(4).c('black')\n",
    "\n",
    "# Create a second spline that pass exactly at the points on the reference plane\n",
    "pts = sptool.nodes()\n",
    "pts[:,2] = 0.\n",
    "sp2 = vedo.shapes.CSpline(points=pts, closed=True)\n",
    "sp2.lw(4).c('red4')\n",
    "\n",
    "# Visualize the splines\n",
    "vedo.show(sp, sp2, \"My splines are ready!\", interactive=True, resetcam=False).close()"
   ]
  },
  {
   "cell_type": "code",
   "execution_count": 18,
   "id": "54697d8a-7ede-4b53-b9ee-bfd7d44b145c",
   "metadata": {
    "tags": []
   },
   "outputs": [],
   "source": [
    "Nx = 30\n",
    "Ny = 21\n",
    "xgrid = np.linspace(sp2.bounds()[0], sp2.bounds()[1], Nx)\n",
    "ygrid = np.linspace(sp2.bounds()[2], sp2.bounds()[3], Ny)\n",
    "grd = vedo.Grid(s=[xgrid, ygrid])\n",
    "msh = sp2.generate_mesh(grid=grd, quads=True)"
   ]
  },
  {
   "cell_type": "code",
   "execution_count": 19,
   "id": "51e9f0fc-38a6-492d-9b32-4d1c248669e8",
   "metadata": {
    "tags": []
   },
   "outputs": [
    {
     "data": {
      "text/plain": [
       "<vedo.plotter.Plotter at 0x71031012cf50>"
      ]
     },
     "execution_count": 19,
     "metadata": {},
     "output_type": "execute_result"
    }
   ],
   "source": [
    "# Visualize the splines\n",
    "vedo.show(sp2, msh, \"My splines are ready!\", interactive=True, resetcam=True).close()"
   ]
  },
  {
   "cell_type": "code",
   "execution_count": 11,
   "id": "6f55e232-aa50-460c-be6a-559dd9efddeb",
   "metadata": {
    "tags": []
   },
   "outputs": [
    {
     "data": {
      "text/plain": [
       "[11, 12, 20, 19]"
      ]
     },
     "execution_count": 11,
     "metadata": {},
     "output_type": "execute_result"
    }
   ],
   "source": [
    "msh.cells[10]"
   ]
  },
  {
   "cell_type": "code",
   "execution_count": null,
   "id": "0451d1cb-e338-4fc2-b88c-6c40bff68f0a",
   "metadata": {
    "tags": []
   },
   "outputs": [],
   "source": [
    "msh.ncells"
   ]
  },
  {
   "cell_type": "code",
   "execution_count": null,
   "id": "420d99a9-1439-40df-bc47-e0e07b10c35e",
   "metadata": {
    "tags": []
   },
   "outputs": [],
   "source": [
    "msh.vertices.shape"
   ]
  },
  {
   "cell_type": "code",
   "execution_count": 12,
   "id": "58e2f8ff-23ca-404c-83c3-f962af89630b",
   "metadata": {
    "tags": []
   },
   "outputs": [
    {
     "data": {
      "text/plain": [
       "array([[ 0.227211  , -0.9335224 ,  0.        ],\n",
       "       [ 0.29755637, -0.9335224 ,  0.        ],\n",
       "       [ 0.29755637, -0.83956635,  0.        ],\n",
       "       [ 0.227211  , -0.83956635,  0.        ]], dtype=float32)"
      ]
     },
     "execution_count": 12,
     "metadata": {},
     "output_type": "execute_result"
    }
   ],
   "source": [
    "msh.vertices[msh.cells[10]]"
   ]
  },
  {
   "cell_type": "code",
   "execution_count": 13,
   "id": "03ecac8e-bedd-4a6e-aded-4f4a72a5d67f",
   "metadata": {},
   "outputs": [],
   "source": [
    "msh.vertices[:,2] = 100"
   ]
  },
  {
   "cell_type": "code",
   "execution_count": 14,
   "id": "8fd0a268-957f-44b4-91f0-51a92e1e419e",
   "metadata": {
    "tags": []
   },
   "outputs": [
    {
     "data": {
      "text/plain": [
       "array([[ -0.12451584,  -1.0274785 , 100.        ],\n",
       "       [ -0.05417047,  -1.0274785 , 100.        ],\n",
       "       [  0.0161749 ,  -1.0274785 , 100.        ],\n",
       "       [  0.08652026,  -1.0274785 , 100.        ],\n",
       "       [  0.15686563,  -1.0274785 , 100.        ],\n",
       "       [  0.227211  ,  -1.0274785 , 100.        ],\n",
       "       [ -0.12451584,  -0.9335224 , 100.        ],\n",
       "       [ -0.05417047,  -0.9335224 , 100.        ],\n",
       "       [  0.0161749 ,  -0.9335224 , 100.        ],\n",
       "       [  0.08652026,  -0.9335224 , 100.        ]], dtype=float32)"
      ]
     },
     "execution_count": 14,
     "metadata": {},
     "output_type": "execute_result"
    }
   ],
   "source": [
    "msh.vertices[:10]"
   ]
  },
  {
   "cell_type": "code",
   "execution_count": null,
   "id": "c358ff95-47ba-4aaa-b158-da1da8ad9ef1",
   "metadata": {},
   "outputs": [],
   "source": []
  }
 ],
 "metadata": {
  "kernelspec": {
   "display_name": "Python 3 (ipykernel)",
   "language": "python",
   "name": "python3"
  },
  "language_info": {
   "codemirror_mode": {
    "name": "ipython",
    "version": 3
   },
   "file_extension": ".py",
   "mimetype": "text/x-python",
   "name": "python",
   "nbconvert_exporter": "python",
   "pygments_lexer": "ipython3",
   "version": "3.11.8"
  }
 },
 "nbformat": 4,
 "nbformat_minor": 5
}
