{
 "cells": [
  {
   "cell_type": "code",
   "execution_count": 1,
   "id": "4d8aaa38-f7de-4233-b309-ff081eabd4ac",
   "metadata": {},
   "outputs": [],
   "source": [
    "import vedo\n",
    "import numpy as np"
   ]
  },
  {
   "cell_type": "code",
   "execution_count": 2,
   "id": "c15a7f81-c29c-49ae-898a-bcd3f558dfa9",
   "metadata": {},
   "outputs": [],
   "source": [
    "vedo.settings.default_backend= 'vtk'"
   ]
  },
  {
   "cell_type": "code",
   "execution_count": 3,
   "id": "9f875e07-8742-4d9c-8434-4e7375205ac7",
   "metadata": {},
   "outputs": [
    {
     "name": "stdout",
     "output_type": "stream",
     "text": [
      "vedo 2024.5.1\n"
     ]
    }
   ],
   "source": [
    "print(\"vedo\", vedo.__version__)"
   ]
  },
  {
   "cell_type": "code",
   "execution_count": 4,
   "id": "e0f35498-33e3-4b68-95f5-7414165bd9a2",
   "metadata": {
    "tags": []
   },
   "outputs": [
    {
     "name": "stdout",
     "output_type": "stream",
     "text": [
      "vertices: [[50. 50. 50.]\n",
      " [70. 40. 50.]\n",
      " [50. 40. 80.]\n",
      " [80. 70. 50.]]\n",
      "faces   : [[0, 1, 2], [2, 1, 3], [1, 0, 3]]\n"
     ]
    },
    {
     "data": {
      "text/plain": [
       "<vedo.plotter.Plotter at 0x71d907fe8ad0>"
      ]
     },
     "execution_count": 4,
     "metadata": {},
     "output_type": "execute_result"
    }
   ],
   "source": [
    "# Define the vertices and faces that make up the mesh\n",
    "verts = [(50,50,50), (70,40,50), (50,40,80), (80,70,50)]\n",
    "cells = [(0,1,2), (2,1,3), (1,0,3)] # cells same as faces\n",
    "\n",
    "# Build the polygonal Mesh object from the vertices and faces\n",
    "mesh = vedo.Mesh([verts, cells])\n",
    "\n",
    "# Set the backcolor of the mesh to violet\n",
    "# and show edges with a linewidth of 2\n",
    "mesh.backcolor('violet').linecolor('tomato').linewidth(2)\n",
    "\n",
    "# Create labels for all vertices in the mesh showing their ID\n",
    "labs = mesh.labels2d('pointid')\n",
    "\n",
    "# Print the points and faces of the mesh as numpy arrays\n",
    "print('vertices:', mesh.vertices)\n",
    "print('faces   :', mesh.cells)\n",
    "\n",
    "# Show the mesh, vertex labels, and docstring\n",
    "vedo.show(mesh, labs, __doc__, viewup='z', axes=1)"
   ]
  },
  {
   "cell_type": "code",
   "execution_count": null,
   "id": "3461e875-e57a-4c8b-a749-ecdf8d842599",
   "metadata": {},
   "outputs": [],
   "source": []
  }
 ],
 "metadata": {
  "kernelspec": {
   "display_name": "Python 3 (ipykernel)",
   "language": "python",
   "name": "python3"
  },
  "language_info": {
   "codemirror_mode": {
    "name": "ipython",
    "version": 3
   },
   "file_extension": ".py",
   "mimetype": "text/x-python",
   "name": "python",
   "nbconvert_exporter": "python",
   "pygments_lexer": "ipython3",
   "version": "3.11.8"
  }
 },
 "nbformat": 4,
 "nbformat_minor": 5
}
