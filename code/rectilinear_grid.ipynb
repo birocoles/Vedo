{
 "cells": [
  {
   "cell_type": "code",
   "execution_count": 1,
   "id": "c4ab30cb-f447-43bd-8ba6-a1e7ca0d33e9",
   "metadata": {},
   "outputs": [],
   "source": [
    "import vedo\n",
    "import numpy as np"
   ]
  },
  {
   "cell_type": "code",
   "execution_count": 2,
   "id": "c04fe2ad-1726-403e-8e77-e40d0eeb08a7",
   "metadata": {},
   "outputs": [],
   "source": [
    "vedo.settings.default_backend= 'vtk'"
   ]
  },
  {
   "cell_type": "code",
   "execution_count": 3,
   "id": "73e779fb-eaba-423e-96b0-72a8460de563",
   "metadata": {},
   "outputs": [
    {
     "name": "stdout",
     "output_type": "stream",
     "text": [
      "vedo 2024.5.1\n"
     ]
    }
   ],
   "source": [
    "print(\"vedo\", vedo.__version__)"
   ]
  },
  {
   "cell_type": "code",
   "execution_count": 4,
   "id": "3a20286f-97ea-420a-affb-26f1a5f2d9b8",
   "metadata": {
    "tags": []
   },
   "outputs": [
    {
     "name": "stdout",
     "output_type": "stream",
     "text": [
      "\u001b[7m\u001b[1m\u001b[36mvedo.grids.RectilinearGrid at (0x5b9b3d9a6fe0)                             \u001b[0m\n",
      "\u001b[0m\u001b[36;1mname          : RectilinearGrid\n",
      "dimensions    : (36, 20, 20)\n",
      "center        : (21.7902, 9.50000, 9.50000)\n",
      "bounds        : x=(7.00, 36.6), y=(0, 19.0), z=(0, 19.0)\n",
      "memory size   : 2.9e-3 MB\u001b[0m\n"
     ]
    },
    {
     "data": {
      "text/plain": [
       "<vedo.plotter.Plotter at 0x75c5f4edeed0>"
      ]
     },
     "execution_count": 4,
     "metadata": {},
     "output_type": "execute_result"
    }
   ],
   "source": [
    "xcoords = 7 + np.sqrt(np.arange(0,900,25))\n",
    "ycoords = np.arange(0, 20)\n",
    "zcoords = np.arange(0, 20)\n",
    "\n",
    "rgrid = vedo.RectilinearGrid([xcoords, ycoords, zcoords])\n",
    "\n",
    "print(rgrid)\n",
    "# print(rgrid.x_coordinates().shape)\n",
    "# print(rgrid.has_blank_points())\n",
    "# print(rgrid.compute_structured_coords([20,10,11]))\n",
    "\n",
    "msh = rgrid.tomesh().lw(1)\n",
    "vedo.show(msh, __doc__, axes=1, viewup=\"z\")"
   ]
  },
  {
   "cell_type": "code",
   "execution_count": null,
   "id": "bb5c8c9a-50d3-4cf0-913d-1223122e2ff3",
   "metadata": {},
   "outputs": [],
   "source": []
  }
 ],
 "metadata": {
  "kernelspec": {
   "display_name": "Python 3 (ipykernel)",
   "language": "python",
   "name": "python3"
  },
  "language_info": {
   "codemirror_mode": {
    "name": "ipython",
    "version": 3
   },
   "file_extension": ".py",
   "mimetype": "text/x-python",
   "name": "python",
   "nbconvert_exporter": "python",
   "pygments_lexer": "ipython3",
   "version": "3.11.8"
  }
 },
 "nbformat": 4,
 "nbformat_minor": 5
}
